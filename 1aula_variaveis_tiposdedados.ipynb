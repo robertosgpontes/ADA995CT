{
  "cells": [
    {
      "cell_type": "markdown",
      "metadata": {
        "id": "view-in-github",
        "colab_type": "text"
      },
      "source": [
        "<a href=\"https://colab.research.google.com/github/robertosgpontes/ADA995CT/blob/main/1aula_variaveis_tiposdedados.ipynb\" target=\"_parent\"><img src=\"https://colab.research.google.com/assets/colab-badge.svg\" alt=\"Open In Colab\"/></a>"
      ]
    },
    {
      "cell_type": "markdown",
      "id": "46cc1557",
      "metadata": {
        "id": "46cc1557"
      },
      "source": [
        "## Tópicos da aula\n",
        "\n",
        " - IDE\n",
        " - Variáveis\n",
        " - Tipos básicos\n",
        " - Entradas/Saídas\n",
        " - Operadores Algébricos\n",
        " - Operadores de comparação"
      ]
    },
    {
      "cell_type": "markdown",
      "id": "663722fc",
      "metadata": {
        "id": "663722fc"
      },
      "source": [
        "# IDE\n",
        "\n",
        "- Visual Studio Code - Extensão Jupyter\n",
        "- Colab google - https://colab.research.google.com/\n",
        "- Deep note - https://deepnote.com/\n",
        "- JupyterLite - https://jupyter.org/try\n",
        "- Kaggle Kernels - https://www.kaggle.com/\n",
        "\n",
        "- Diversas opções:\n",
        "  - https://cocalc.com/features/jupyter-notebook\n",
        "  - https://www.codingrooms.com/compiler/jupyter-notebook\n",
        "  - https://mybinder.org/"
      ]
    },
    {
      "cell_type": "markdown",
      "id": "73c6063a",
      "metadata": {
        "id": "73c6063a"
      },
      "source": [
        "## Variáveis\n",
        "Variável é o nome dado ao tipo de conteúdo que pode apresentar diferentes valores enquanto o sistema está em execução. Tudo dependerá do comando do usuário e o tipo de operação que é realizado.  \n",
        "Imagine que você conheça uma nova pessoa. A variável seria o lugar no seu cérebro no qual você guarda, por exemplo, o nome desta pessoa, ou seja, é alocado um espaço para armazenar esta informação e posteriormente é passado o valor referente aquele dado.\n",
        "\n",
        "```\n",
        "nome = \"Bruno\"\n",
        "```"
      ]
    },
    {
      "cell_type": "markdown",
      "id": "41b0fe06",
      "metadata": {
        "id": "41b0fe06"
      },
      "source": [
        "## Tipos básicos\n",
        "\n",
        "Podemos ter informações relacionadas às outras pessoas como nome, idade e salário. Cada uma delas possui o que chamamos de tipos de variável. Os tipos de dados são os seguintes:"
      ]
    },
    {
      "cell_type": "code",
      "execution_count": null,
      "id": "87037bf8",
      "metadata": {
        "id": "87037bf8",
        "outputId": "57a30fbe-a0ee-4a3a-db66-5a6459a02927"
      },
      "outputs": [
        {
          "data": {
            "text/plain": [
              "str"
            ]
          },
          "execution_count": 1,
          "metadata": {},
          "output_type": "execute_result"
        }
      ],
      "source": [
        "# Esta é uma forma de comentar o código. Toda esta informação não será processada\n",
        "# Podemos passar variáveis de texto (str) com aspas duplas\n",
        "\n"
      ]
    },
    {
      "cell_type": "code",
      "execution_count": null,
      "id": "74c191c8",
      "metadata": {
        "id": "74c191c8",
        "outputId": "37246ae4-c227-42c2-994d-5c94f5d48fcc"
      },
      "outputs": [
        {
          "data": {
            "text/plain": [
              "str"
            ]
          },
          "execution_count": 2,
          "metadata": {},
          "output_type": "execute_result"
        }
      ],
      "source": [
        "# Ou aspas simples\n"
      ]
    },
    {
      "cell_type": "code",
      "execution_count": null,
      "id": "175ac6dc",
      "metadata": {
        "id": "175ac6dc"
      },
      "outputs": [],
      "source": []
    },
    {
      "cell_type": "code",
      "execution_count": null,
      "id": "ca5d746d",
      "metadata": {
        "id": "ca5d746d"
      },
      "outputs": [],
      "source": []
    },
    {
      "cell_type": "code",
      "execution_count": null,
      "id": "f2d8d93c",
      "metadata": {
        "id": "f2d8d93c"
      },
      "outputs": [],
      "source": []
    },
    {
      "cell_type": "markdown",
      "id": "a1fcbea2",
      "metadata": {
        "id": "a1fcbea2"
      },
      "source": [
        "## Entradas\n",
        "\n",
        "Para solicitarmos entradas de informações a serem fornecidas pelo usuário podemos utilizar a função input. Com ela você poderá (opcional) passar uma mensagem instrutiva ao usuário do que deseja que ele insira.  \n",
        "No exemplo abaixo utilizaremos o input."
      ]
    },
    {
      "cell_type": "code",
      "execution_count": null,
      "id": "41987074",
      "metadata": {
        "id": "41987074"
      },
      "outputs": [],
      "source": []
    },
    {
      "cell_type": "markdown",
      "id": "faa5f5b2",
      "metadata": {
        "id": "faa5f5b2"
      },
      "source": [
        "**Intuição**  \n",
        "Veja que ele funciona, porém sem uma mensagem de qual informação é solicitada não é possível identificar o que se deve passar ao programa."
      ]
    },
    {
      "cell_type": "code",
      "execution_count": null,
      "id": "9423131e",
      "metadata": {
        "id": "9423131e",
        "outputId": "955fb263-dd3d-482e-932c-8aa29398855a"
      },
      "outputs": [
        {
          "data": {
            "text/plain": [
              "'26'"
            ]
          },
          "execution_count": 3,
          "metadata": {},
          "output_type": "execute_result"
        }
      ],
      "source": []
    },
    {
      "cell_type": "markdown",
      "id": "73e528e4",
      "metadata": {
        "id": "73e528e4"
      },
      "source": [
        "**Variável**  \n",
        "Podemos guardar o valor passado pelo usuário numa variável"
      ]
    },
    {
      "cell_type": "code",
      "execution_count": null,
      "id": "975aa083",
      "metadata": {
        "id": "975aa083"
      },
      "outputs": [],
      "source": []
    },
    {
      "cell_type": "markdown",
      "id": "6ae7fe31",
      "metadata": {
        "id": "6ae7fe31"
      },
      "source": [
        "Repare nas aspas que saem quando utilizamos apenas a função input. Isso quer dizer que este valor capturado pelo programa é uma string, independente do que o usuário insira."
      ]
    },
    {
      "cell_type": "code",
      "execution_count": null,
      "id": "d973a5b6",
      "metadata": {
        "id": "d973a5b6",
        "outputId": "7478f73a-9593-493d-c4d7-636417de0de2"
      },
      "outputs": [
        {
          "data": {
            "text/plain": [
              "str"
            ]
          },
          "execution_count": 5,
          "metadata": {},
          "output_type": "execute_result"
        }
      ],
      "source": []
    },
    {
      "cell_type": "markdown",
      "id": "c81d5ec5",
      "metadata": {
        "id": "c81d5ec5"
      },
      "source": [
        "**Convertendo o tipo de dado**  \n",
        "Neste caso é interessante que a idade seja um número, visto que em geral o utilizamos para realizar contas, por exemplo. Para converter este valor para um inteiro, podemos fazer da seguinte forma:"
      ]
    },
    {
      "cell_type": "code",
      "execution_count": null,
      "id": "47c2e23a",
      "metadata": {
        "id": "47c2e23a"
      },
      "outputs": [],
      "source": []
    },
    {
      "cell_type": "markdown",
      "id": "c40cfc87",
      "metadata": {
        "id": "c40cfc87"
      },
      "source": [
        "E para simplificar ainda mais é comum que já realizemos a conversão da variável logo na chamada do input."
      ]
    },
    {
      "cell_type": "code",
      "execution_count": null,
      "id": "b1053ecd",
      "metadata": {
        "id": "b1053ecd"
      },
      "outputs": [],
      "source": []
    },
    {
      "cell_type": "code",
      "execution_count": null,
      "id": "238fc792",
      "metadata": {
        "id": "238fc792"
      },
      "outputs": [],
      "source": []
    },
    {
      "cell_type": "markdown",
      "id": "90d69dd0",
      "metadata": {
        "id": "90d69dd0"
      },
      "source": [
        "## Saídas\n",
        "\n",
        "Em diversas situações desejamos imprimir na tela o resultado de alguma operação que realizamos ou simplesmente emitirmos uma mensagem, para estas situações utilizamos o print."
      ]
    },
    {
      "cell_type": "code",
      "execution_count": null,
      "id": "ef8a8269",
      "metadata": {
        "id": "ef8a8269",
        "outputId": "1fd7e0fa-b832-445a-e1b8-dc6ce1d188a7"
      },
      "outputs": [
        {
          "name": "stdout",
          "output_type": "stream",
          "text": [
            "Você pode utilizar o print para imprimir na tela o que você quiser\n"
          ]
        }
      ],
      "source": []
    },
    {
      "cell_type": "code",
      "execution_count": null,
      "id": "59b255f4",
      "metadata": {
        "id": "59b255f4",
        "outputId": "df6ef693-1180-459a-9eb8-fe86aad36433"
      },
      "outputs": [
        {
          "name": "stdout",
          "output_type": "stream",
          "text": [
            "Aspas duplas também funcionam\n"
          ]
        }
      ],
      "source": []
    },
    {
      "cell_type": "code",
      "execution_count": null,
      "id": "1e68d16b",
      "metadata": {
        "id": "1e68d16b",
        "outputId": "9dfbd0e3-f527-4bad-8628-5547fcb62cff"
      },
      "outputs": [
        {
          "name": "stdout",
          "output_type": "stream",
          "text": [
            "Podemos pular linha \n",
            "com este símbolo\n"
          ]
        }
      ],
      "source": []
    },
    {
      "cell_type": "code",
      "execution_count": null,
      "id": "52eef66b",
      "metadata": {
        "id": "52eef66b",
        "outputId": "e9f7b674-3406-4257-ef80-46d471144abb"
      },
      "outputs": [
        {
          "name": "stdout",
          "output_type": "stream",
          "text": [
            "\tÉ possível utilizar a tabulação também\n"
          ]
        }
      ],
      "source": []
    },
    {
      "cell_type": "markdown",
      "id": "f30ee2c6",
      "metadata": {
        "id": "f30ee2c6"
      },
      "source": [
        "**Mais de um argumento**  \n",
        "Para imprimir mais de uma informação, o print permite inserir quantos argumentos forem necessários, desde que separados por vírgula. Veja o exemplo:"
      ]
    },
    {
      "cell_type": "code",
      "execution_count": null,
      "id": "bf04867b",
      "metadata": {
        "id": "bf04867b"
      },
      "outputs": [],
      "source": []
    },
    {
      "cell_type": "markdown",
      "id": "1881c3d6",
      "metadata": {
        "id": "1881c3d6"
      },
      "source": [
        "**Print de variáveis**  \n",
        "Também é possível imprimir variáveis de forma simples, basta passar o nome dado para a variável dentro dos parênteses."
      ]
    },
    {
      "cell_type": "code",
      "execution_count": null,
      "id": "7b75f589",
      "metadata": {
        "id": "7b75f589"
      },
      "outputs": [],
      "source": []
    },
    {
      "cell_type": "markdown",
      "id": "d39ad7cc",
      "metadata": {
        "id": "d39ad7cc"
      },
      "source": [
        "E se for necessário imprimir a mensagem 'Olá, eu sou Roberto Pontes\", de forma que o nome e o sobrenome sejam provenientes de variáveis nome e sobrenome."
      ]
    },
    {
      "cell_type": "code",
      "execution_count": null,
      "id": "71c90ef6",
      "metadata": {
        "id": "71c90ef6"
      },
      "outputs": [],
      "source": []
    },
    {
      "cell_type": "markdown",
      "id": "b6b3c143",
      "metadata": {
        "id": "b6b3c143"
      },
      "source": [
        "**Print com f string**  \n",
        "Outra forma de utilizarmos o print com variáveis é por meio do que chamamos de f string."
      ]
    },
    {
      "cell_type": "code",
      "execution_count": null,
      "id": "376ddf37",
      "metadata": {
        "id": "376ddf37"
      },
      "outputs": [],
      "source": []
    },
    {
      "cell_type": "code",
      "execution_count": null,
      "id": "7eaa7dbb",
      "metadata": {
        "id": "7eaa7dbb",
        "outputId": "4fc2f3e2-49b5-42d8-f1ae-be4c72a4c687"
      },
      "outputs": [
        {
          "name": "stdout",
          "output_type": "stream",
          "text": [
            "A idade é 26 anos e meu nome Bruno\n"
          ]
        }
      ],
      "source": []
    },
    {
      "cell_type": "markdown",
      "id": "f51d5964",
      "metadata": {
        "id": "f51d5964"
      },
      "source": [
        "**Bora praticar!**  \n",
        "Escreva um programa que receba seu nome, sua idade e hobby e escreva uma única sentença que seja, por exemplo, \"Meu nome é Bruno, tenho 29 anos e meu hobby é praticar esportes\""
      ]
    },
    {
      "cell_type": "code",
      "execution_count": null,
      "id": "3a85f961",
      "metadata": {
        "id": "3a85f961"
      },
      "outputs": [],
      "source": [
        "\n"
      ]
    },
    {
      "cell_type": "markdown",
      "id": "0468efe1",
      "metadata": {
        "id": "0468efe1"
      },
      "source": [
        "## Operadores Algébricos\n",
        "\n",
        "Rotineiramente nos deparamos com a necessidade de realizarmos cálculos, para isso podemos utilizar os operadores algébricos como conhecemos na matemática tradicional."
      ]
    },
    {
      "cell_type": "markdown",
      "id": "fb401a8b",
      "metadata": {
        "id": "fb401a8b"
      },
      "source": [
        "**Soma de dois valores**"
      ]
    },
    {
      "cell_type": "code",
      "execution_count": null,
      "id": "f99c680d",
      "metadata": {
        "id": "f99c680d"
      },
      "outputs": [],
      "source": [
        "\n"
      ]
    },
    {
      "cell_type": "code",
      "execution_count": null,
      "id": "eb3c61d1",
      "metadata": {
        "id": "eb3c61d1"
      },
      "outputs": [],
      "source": [
        "\n"
      ]
    },
    {
      "cell_type": "markdown",
      "id": "c69dcb20",
      "metadata": {
        "id": "c69dcb20"
      },
      "source": [
        "Resumindo:"
      ]
    },
    {
      "cell_type": "markdown",
      "id": "cf6d43b8",
      "metadata": {
        "id": "cf6d43b8"
      },
      "source": [
        "| Símbolo | Operação        |\n",
        "|---------|-----------------|\n",
        "|    +    | soma            |\n",
        "|    -    | subtração       |\n",
        "|    *    | multiplicação   |\n",
        "|    /    | divisão         |\n",
        "|    //   | divisão inteira |\n",
        "|    %    | resto           |\n",
        "|    **   | potência        |"
      ]
    },
    {
      "cell_type": "markdown",
      "id": "be41659d",
      "metadata": {
        "id": "be41659d"
      },
      "source": [
        "**Utilizando variáveis**"
      ]
    },
    {
      "cell_type": "code",
      "execution_count": null,
      "id": "26f0830f",
      "metadata": {
        "id": "26f0830f"
      },
      "outputs": [],
      "source": []
    },
    {
      "cell_type": "markdown",
      "id": "b40ef83a",
      "metadata": {
        "id": "b40ef83a"
      },
      "source": [
        "**Bora praticar!**  \n",
        "Com tudo que vimos até o momento faça um programa que solicite ao usuário que insira seu ano de nascimento. Desconsiderando o mês do ano de nascimento, emita uma mensagem dizendo quantos anos ele possui."
      ]
    },
    {
      "cell_type": "code",
      "execution_count": null,
      "id": "ea4f2c7d",
      "metadata": {
        "id": "ea4f2c7d",
        "outputId": "92d23b59-e72c-42a1-946d-c00b300868c7"
      },
      "outputs": [
        {
          "name": "stdout",
          "output_type": "stream",
          "text": [
            "Sua idade é 26 anos\n"
          ]
        }
      ],
      "source": []
    },
    {
      "cell_type": "markdown",
      "id": "c0bfad1f",
      "metadata": {
        "id": "c0bfad1f"
      },
      "source": [
        "## Operadores de Comparação  \n",
        "Os operadores de comparação são aqueles que possuem o objetivo de analisar os valores de uma expressão e retornar um valor booleano, ou seja, verdadeiro (1) ou falso (0)."
      ]
    },
    {
      "cell_type": "code",
      "execution_count": null,
      "id": "ec142f45",
      "metadata": {
        "id": "ec142f45"
      },
      "outputs": [],
      "source": []
    },
    {
      "cell_type": "code",
      "execution_count": null,
      "id": "10769d48",
      "metadata": {
        "id": "10769d48"
      },
      "outputs": [],
      "source": []
    },
    {
      "cell_type": "code",
      "execution_count": null,
      "id": "5ff742e5",
      "metadata": {
        "id": "5ff742e5"
      },
      "outputs": [],
      "source": []
    },
    {
      "cell_type": "code",
      "execution_count": null,
      "id": "52c4dac5",
      "metadata": {
        "id": "52c4dac5"
      },
      "outputs": [],
      "source": []
    },
    {
      "cell_type": "code",
      "execution_count": null,
      "id": "cf7833ca",
      "metadata": {
        "id": "cf7833ca",
        "outputId": "ad8da731-ff50-4123-8f2e-879d13a1c3e2"
      },
      "outputs": [
        {
          "data": {
            "text/plain": [
              "bool"
            ]
          },
          "execution_count": 20,
          "metadata": {},
          "output_type": "execute_result"
        }
      ],
      "source": []
    },
    {
      "cell_type": "code",
      "execution_count": null,
      "id": "39d823ac",
      "metadata": {
        "id": "39d823ac",
        "outputId": "8127fb45-a027-4c15-a1ae-8aa1c1575857"
      },
      "outputs": [
        {
          "data": {
            "text/plain": [
              "int"
            ]
          },
          "execution_count": 21,
          "metadata": {},
          "output_type": "execute_result"
        }
      ],
      "source": []
    },
    {
      "cell_type": "markdown",
      "id": "be2ff254",
      "metadata": {
        "id": "be2ff254"
      },
      "source": [
        "**Bora praticar!**  \n",
        "Imagine que você está implementando um sistema para verificar se os alunos de uma turma estudantil passaram na disciplina ou não. Para isso solicite que o usuário insira as notas das 4 provas realizadas por um estudante e calcule a média. Após isso, emita uma resposta booleana (True ou False) se o estudante passou na disciplina pensando que a média mínima para aprovação é que seja pelo menos 5."
      ]
    },
    {
      "cell_type": "code",
      "execution_count": null,
      "id": "8794ca21",
      "metadata": {
        "id": "8794ca21",
        "outputId": "9fcad9d2-fa09-4747-d096-9f660b86faae",
        "scrolled": true
      },
      "outputs": [
        {
          "name": "stdout",
          "output_type": "stream",
          "text": [
            "True\n"
          ]
        }
      ],
      "source": []
    },
    {
      "cell_type": "markdown",
      "id": "65eb1662",
      "metadata": {
        "id": "65eb1662"
      },
      "source": [
        "Crie um algoritmo que calcule o IMC (índice de massa corporal). O IMC é calculado com a formula PESO/(ALTURA ^ 2). Para isso, coloque as informações nas variáveis e ao final apresente o resultado como no exemplo: \"O IMC é 18\""
      ]
    },
    {
      "cell_type": "code",
      "execution_count": null,
      "id": "0e39a63a",
      "metadata": {
        "id": "0e39a63a"
      },
      "outputs": [],
      "source": []
    },
    {
      "cell_type": "markdown",
      "id": "3508edd6",
      "metadata": {
        "id": "3508edd6"
      },
      "source": [
        "Escreva um algoritmo que calcule (x + y) * (x + y). Os valores de x e y devem ser inseridos pelo usuario"
      ]
    },
    {
      "cell_type": "code",
      "execution_count": null,
      "id": "6de3eaf0",
      "metadata": {
        "id": "6de3eaf0"
      },
      "outputs": [],
      "source": []
    }
  ],
  "metadata": {
    "colab": {
      "collapsed_sections": [
        "90d69dd0",
        "0468efe1",
        "c0bfad1f"
      ],
      "provenance": [],
      "include_colab_link": true
    },
    "kernelspec": {
      "display_name": "Python 3.9.13 64-bit (windows store)",
      "language": "python",
      "name": "python3"
    },
    "language_info": {
      "codemirror_mode": {
        "name": "ipython",
        "version": 3
      },
      "file_extension": ".py",
      "mimetype": "text/x-python",
      "name": "python",
      "nbconvert_exporter": "python",
      "pygments_lexer": "ipython3",
      "version": "3.9.13"
    },
    "vscode": {
      "interpreter": {
        "hash": "707ec6369cc8364d856afa962bf87673ae9b32683b44e418706a06c970307b3e"
      }
    }
  },
  "nbformat": 4,
  "nbformat_minor": 5
}