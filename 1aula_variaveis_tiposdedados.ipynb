{
  "cells": [
    {
      "attachments": {},
      "cell_type": "markdown",
      "metadata": {
        "colab_type": "text",
        "id": "view-in-github"
      },
      "source": [
        "<a href=\"https://colab.research.google.com/github/robertosgpontes/ADA995CT/blob/main/1aula_variaveis_tiposdedados.ipynb\" target=\"_parent\"><img src=\"https://colab.research.google.com/assets/colab-badge.svg\" alt=\"Open In Colab\"/></a>"
      ]
    },
    {
      "attachments": {},
      "cell_type": "markdown",
      "id": "46cc1557",
      "metadata": {
        "id": "46cc1557"
      },
      "source": [
        "## Tópicos da aula\n",
        "\n",
        " - IDE\n",
        " - Variáveis\n",
        " - Tipos básicos\n",
        " - Entradas/Saídas\n",
        " - Operadores Algébricos\n",
        " - Operadores de comparação"
      ]
    },
    {
      "attachments": {},
      "cell_type": "markdown",
      "id": "663722fc",
      "metadata": {
        "id": "663722fc"
      },
      "source": [
        "# IDE\n",
        "\n",
        "- Visual Studio Code - Extensão Jupyter\n",
        "- Colab google - https://colab.research.google.com/\n",
        "- Deep note - https://deepnote.com/\n",
        "- JupyterLite - https://jupyter.org/try\n",
        "- Kaggle Kernels - https://www.kaggle.com/\n",
        "\n",
        "- Diversas opções:\n",
        "  - https://cocalc.com/features/jupyter-notebook\n",
        "  - https://www.codingrooms.com/compiler/jupyter-notebook\n",
        "  - https://mybinder.org/"
      ]
    },
    {
      "attachments": {},
      "cell_type": "markdown",
      "id": "73c6063a",
      "metadata": {
        "id": "73c6063a"
      },
      "source": [
        "## Variáveis\n",
        "Variável é o nome dado ao tipo de conteúdo que pode apresentar diferentes valores enquanto o sistema está em execução. Tudo dependerá do comando do usuário e o tipo de operação que é realizado.  \n",
        "Imagine que você conheça uma nova pessoa. A variável seria o lugar no seu cérebro no qual você guarda, por exemplo, o nome desta pessoa, ou seja, é alocado um espaço para armazenar esta informação e posteriormente é passado o valor referente aquele dado.\n",
        "\n",
        "```\n",
        "nome = \"Bruno\"\n",
        "```"
      ]
    },
    {
      "attachments": {},
      "cell_type": "markdown",
      "id": "41b0fe06",
      "metadata": {
        "id": "41b0fe06"
      },
      "source": [
        "## Tipos básicos\n",
        "\n",
        "Podemos ter informações relacionadas às outras pessoas como nome, idade e salário. Cada uma delas possui o que chamamos de tipos de variável. Os tipos de dados são os seguintes:"
      ]
    },
    {
      "attachments": {},
      "cell_type": "markdown",
      "id": "IU2bei-m_aWQ",
      "metadata": {
        "id": "IU2bei-m_aWQ"
      },
      "source": [
        "https://docs.python.org/3/library/stdtypes.html"
      ]
    },
    {
      "cell_type": "code",
      "execution_count": 1,
      "id": "87037bf8",
      "metadata": {
        "id": "87037bf8"
      },
      "outputs": [],
      "source": [
        "# Esta é uma forma de comentar o código. Toda esta informação não será processada\n",
        "# Podemos passar variáveis de texto (str) com aspas duplas\n",
        "\n",
        "nome = \"Roberto\""
      ]
    },
    {
      "cell_type": "code",
      "execution_count": 2,
      "id": "74c191c8",
      "metadata": {
        "id": "74c191c8"
      },
      "outputs": [],
      "source": [
        "# Ou aspas simples\n",
        "nome2 = 'Roberto'"
      ]
    },
    {
      "cell_type": "code",
      "execution_count": 3,
      "id": "175ac6dc",
      "metadata": {
        "colab": {
          "base_uri": "https://localhost:8080/"
        },
        "id": "175ac6dc",
        "outputId": "1901e6c2-1d68-4a1b-c115-50006a44b465"
      },
      "outputs": [
        {
          "data": {
            "text/plain": [
              "str"
            ]
          },
          "execution_count": 3,
          "metadata": {},
          "output_type": "execute_result"
        }
      ],
      "source": [
        "type(nome)"
      ]
    },
    {
      "cell_type": "code",
      "execution_count": 4,
      "id": "_ApuTFqc_rOT",
      "metadata": {
        "colab": {
          "base_uri": "https://localhost:8080/"
        },
        "id": "_ApuTFqc_rOT",
        "outputId": "e99752f0-c0ba-4f7a-eac2-bef14798aa4c"
      },
      "outputs": [
        {
          "data": {
            "text/plain": [
              "str"
            ]
          },
          "execution_count": 4,
          "metadata": {},
          "output_type": "execute_result"
        }
      ],
      "source": [
        "type(nome2)"
      ]
    },
    {
      "cell_type": "code",
      "execution_count": 5,
      "id": "ca5d746d",
      "metadata": {
        "id": "ca5d746d"
      },
      "outputs": [],
      "source": [
        "idade = 0"
      ]
    },
    {
      "cell_type": "code",
      "execution_count": 7,
      "id": "XCvUVcy2Ag7p",
      "metadata": {
        "colab": {
          "base_uri": "https://localhost:8080/"
        },
        "id": "XCvUVcy2Ag7p",
        "outputId": "caee2635-5c3d-43b7-f6ca-b56c3f106a83"
      },
      "outputs": [
        {
          "data": {
            "text/plain": [
              "int"
            ]
          },
          "execution_count": 7,
          "metadata": {},
          "output_type": "execute_result"
        }
      ],
      "source": [
        "type(idade)"
      ]
    },
    {
      "cell_type": "code",
      "execution_count": 15,
      "id": "f2d8d93c",
      "metadata": {
        "id": "f2d8d93c"
      },
      "outputs": [],
      "source": [
        "altura = 1.72"
      ]
    },
    {
      "cell_type": "code",
      "execution_count": 16,
      "id": "eSQMsU2WAj02",
      "metadata": {
        "colab": {
          "base_uri": "https://localhost:8080/"
        },
        "id": "eSQMsU2WAj02",
        "outputId": "26a1c363-1423-4003-9879-ab2894a82b2e"
      },
      "outputs": [
        {
          "data": {
            "text/plain": [
              "float"
            ]
          },
          "execution_count": 16,
          "metadata": {},
          "output_type": "execute_result"
        }
      ],
      "source": [
        "type(altura)"
      ]
    },
    {
      "cell_type": "code",
      "execution_count": 18,
      "id": "846f4184",
      "metadata": {},
      "outputs": [
        {
          "name": "stdout",
          "output_type": "stream",
          "text": [
            "1.72\n"
          ]
        }
      ],
      "source": [
        "print(altura)"
      ]
    },
    {
      "attachments": {},
      "cell_type": "markdown",
      "id": "a1fcbea2",
      "metadata": {
        "id": "a1fcbea2"
      },
      "source": [
        "## Entradas\n",
        "\n",
        "Para solicitarmos entradas de informações a serem fornecidas pelo usuário podemos utilizar a função input. Com ela você poderá (opcional) passar uma mensagem instrutiva ao usuário do que deseja que ele insira.  \n",
        "No exemplo abaixo utilizaremos o input."
      ]
    },
    {
      "cell_type": "code",
      "execution_count": 19,
      "id": "41987074",
      "metadata": {
        "colab": {
          "base_uri": "https://localhost:8080/",
          "height": 53
        },
        "id": "41987074",
        "outputId": "0e3ef99b-787b-4ce7-ef03-a4fbace0e4fe"
      },
      "outputs": [
        {
          "data": {
            "text/plain": [
              "True"
            ]
          },
          "execution_count": 19,
          "metadata": {},
          "output_type": "execute_result"
        }
      ],
      "source": [
        "bool(input())"
      ]
    },
    {
      "attachments": {},
      "cell_type": "markdown",
      "id": "faa5f5b2",
      "metadata": {
        "id": "faa5f5b2"
      },
      "source": [
        "**Intuição**  \n",
        "Veja que ele funciona, porém sem uma mensagem de qual informação é solicitada não é possível identificar o que se deve passar ao programa."
      ]
    },
    {
      "cell_type": "code",
      "execution_count": 25,
      "id": "9423131e",
      "metadata": {
        "id": "9423131e"
      },
      "outputs": [],
      "source": [
        "idade = input('Idade: ')"
      ]
    },
    {
      "cell_type": "code",
      "execution_count": 26,
      "id": "74a48535",
      "metadata": {},
      "outputs": [],
      "source": [
        "idade = int(idade)"
      ]
    },
    {
      "cell_type": "code",
      "execution_count": 27,
      "id": "11186c3d",
      "metadata": {},
      "outputs": [
        {
          "data": {
            "text/plain": [
              "41"
            ]
          },
          "execution_count": 27,
          "metadata": {},
          "output_type": "execute_result"
        }
      ],
      "source": [
        "idade"
      ]
    },
    {
      "cell_type": "code",
      "execution_count": 28,
      "id": "26e2f4d9",
      "metadata": {},
      "outputs": [],
      "source": [
        "ano = 2023 - idade"
      ]
    },
    {
      "cell_type": "code",
      "execution_count": 29,
      "id": "cc4d6700",
      "metadata": {},
      "outputs": [
        {
          "data": {
            "text/plain": [
              "1982"
            ]
          },
          "execution_count": 29,
          "metadata": {},
          "output_type": "execute_result"
        }
      ],
      "source": [
        "ano"
      ]
    },
    {
      "attachments": {},
      "cell_type": "markdown",
      "id": "73e528e4",
      "metadata": {
        "id": "73e528e4"
      },
      "source": [
        "**Variável**  \n",
        "Podemos guardar o valor passado pelo usuário numa variável"
      ]
    },
    {
      "cell_type": "code",
      "execution_count": null,
      "id": "975aa083",
      "metadata": {
        "id": "975aa083"
      },
      "outputs": [],
      "source": []
    },
    {
      "attachments": {},
      "cell_type": "markdown",
      "id": "6ae7fe31",
      "metadata": {
        "id": "6ae7fe31"
      },
      "source": [
        "Repare nas aspas que saem quando utilizamos apenas a função input. Isso quer dizer que este valor capturado pelo programa é uma string, independente do que o usuário insira."
      ]
    },
    {
      "cell_type": "code",
      "execution_count": 30,
      "id": "d973a5b6",
      "metadata": {
        "id": "d973a5b6",
        "outputId": "7478f73a-9593-493d-c4d7-636417de0de2"
      },
      "outputs": [],
      "source": [
        "nome = input(\"Insira o seu nome: \")"
      ]
    },
    {
      "cell_type": "code",
      "execution_count": 31,
      "id": "b396bac7",
      "metadata": {},
      "outputs": [
        {
          "data": {
            "text/plain": [
              "'Daniel'"
            ]
          },
          "execution_count": 31,
          "metadata": {},
          "output_type": "execute_result"
        }
      ],
      "source": [
        "nome"
      ]
    },
    {
      "cell_type": "code",
      "execution_count": 34,
      "id": "aad64565",
      "metadata": {},
      "outputs": [],
      "source": [
        "cumprimento = f\"Olá, {nome}\""
      ]
    },
    {
      "cell_type": "code",
      "execution_count": 35,
      "id": "239fbf16",
      "metadata": {},
      "outputs": [
        {
          "data": {
            "text/plain": [
              "'Olá, Daniel'"
            ]
          },
          "execution_count": 35,
          "metadata": {},
          "output_type": "execute_result"
        }
      ],
      "source": [
        "cumprimento"
      ]
    },
    {
      "attachments": {},
      "cell_type": "markdown",
      "id": "c81d5ec5",
      "metadata": {
        "id": "c81d5ec5"
      },
      "source": [
        "**Convertendo o tipo de dado**  \n",
        "Neste caso é interessante que a idade seja um número, visto que em geral o utilizamos para realizar contas, por exemplo. Para converter este valor para um inteiro, podemos fazer da seguinte forma:"
      ]
    },
    {
      "cell_type": "code",
      "execution_count": null,
      "id": "47c2e23a",
      "metadata": {
        "id": "47c2e23a"
      },
      "outputs": [],
      "source": []
    },
    {
      "attachments": {},
      "cell_type": "markdown",
      "id": "c40cfc87",
      "metadata": {
        "id": "c40cfc87"
      },
      "source": [
        "E para simplificar ainda mais é comum que já realizemos a conversão da variável logo na chamada do input."
      ]
    },
    {
      "cell_type": "code",
      "execution_count": null,
      "id": "b1053ecd",
      "metadata": {
        "id": "b1053ecd"
      },
      "outputs": [],
      "source": []
    },
    {
      "cell_type": "code",
      "execution_count": null,
      "id": "238fc792",
      "metadata": {
        "id": "238fc792"
      },
      "outputs": [],
      "source": []
    },
    {
      "attachments": {},
      "cell_type": "markdown",
      "id": "90d69dd0",
      "metadata": {
        "id": "90d69dd0"
      },
      "source": [
        "## Saídas\n",
        "\n",
        "Em diversas situações desejamos imprimir na tela o resultado de alguma operação que realizamos ou simplesmente emitirmos uma mensagem, para estas situações utilizamos o print."
      ]
    },
    {
      "cell_type": "code",
      "execution_count": 36,
      "id": "ef8a8269",
      "metadata": {
        "id": "ef8a8269",
        "outputId": "1fd7e0fa-b832-445a-e1b8-dc6ce1d188a7"
      },
      "outputs": [
        {
          "name": "stdout",
          "output_type": "stream",
          "text": [
            "hello world!\n"
          ]
        }
      ],
      "source": [
        "print(\"hello world!\")"
      ]
    },
    {
      "cell_type": "code",
      "execution_count": 37,
      "id": "b4778f76",
      "metadata": {},
      "outputs": [
        {
          "name": "stdout",
          "output_type": "stream",
          "text": [
            "ola mundo\n"
          ]
        }
      ],
      "source": [
        "print(\"ola mundo\")"
      ]
    },
    {
      "cell_type": "code",
      "execution_count": null,
      "id": "59b255f4",
      "metadata": {
        "id": "59b255f4",
        "outputId": "df6ef693-1180-459a-9eb8-fe86aad36433"
      },
      "outputs": [
        {
          "name": "stdout",
          "output_type": "stream",
          "text": [
            "Aspas duplas também funcionam\n"
          ]
        }
      ],
      "source": []
    },
    {
      "cell_type": "code",
      "execution_count": null,
      "id": "1e68d16b",
      "metadata": {
        "id": "1e68d16b",
        "outputId": "9dfbd0e3-f527-4bad-8628-5547fcb62cff"
      },
      "outputs": [
        {
          "name": "stdout",
          "output_type": "stream",
          "text": [
            "Podemos pular linha \n",
            "com este símbolo\n"
          ]
        }
      ],
      "source": []
    },
    {
      "cell_type": "code",
      "execution_count": 41,
      "id": "52eef66b",
      "metadata": {
        "id": "52eef66b",
        "outputId": "e9f7b674-3406-4257-ef80-46d471144abb"
      },
      "outputs": [
        {
          "name": "stdout",
          "output_type": "stream",
          "text": [
            "Receita ovo mexido.\n",
            "Ingredientes:\n",
            "\t1 ovo\n",
            "\t1 pitada de sal\n",
            "Modo de preparo:\n",
            "\tQuebre o ovo em um recipiente\n"
          ]
        }
      ],
      "source": [
        "print(\n",
        "    \"Receita ovo mexido.\\n\"\n",
        "    \"Ingredientes:\\n\"\n",
        "    \"\\t1 ovo\\n\"\n",
        "    \"\\t1 pitada de sal\\n\"\n",
        "    \"Modo de preparo:\\n\"\n",
        "    \"\\tQuebre o ovo em um recipiente\"\n",
        ")"
      ]
    },
    {
      "cell_type": "code",
      "execution_count": 42,
      "id": "a302065b",
      "metadata": {},
      "outputs": [
        {
          "data": {
            "text/plain": [
              "'\\nPrimeira linha\\nSegunda linha\\n'"
            ]
          },
          "execution_count": 42,
          "metadata": {},
          "output_type": "execute_result"
        }
      ],
      "source": [
        "\"\"\"\n",
        "Primeira linha\n",
        "Segunda linha\n",
        "\"\"\""
      ]
    },
    {
      "attachments": {},
      "cell_type": "markdown",
      "id": "f30ee2c6",
      "metadata": {
        "id": "f30ee2c6"
      },
      "source": [
        "**Mais de um argumento**  \n",
        "Para imprimir mais de uma informação, o print permite inserir quantos argumentos forem necessários, desde que separados por vírgula. Veja o exemplo:"
      ]
    },
    {
      "cell_type": "code",
      "execution_count": 45,
      "id": "bf04867b",
      "metadata": {
        "id": "bf04867b"
      },
      "outputs": [
        {
          "name": "stdout",
          "output_type": "stream",
          "text": [
            "Olá,  Daniel !\n"
          ]
        }
      ],
      "source": [
        "print(\"Olá, \", nome, \"!\")"
      ]
    },
    {
      "cell_type": "code",
      "execution_count": 57,
      "id": "fac944d4",
      "metadata": {},
      "outputs": [
        {
          "data": {
            "text/plain": [
              "'iel'"
            ]
          },
          "execution_count": 57,
          "metadata": {},
          "output_type": "execute_result"
        }
      ],
      "source": [
        "nome[3:6]"
      ]
    },
    {
      "attachments": {},
      "cell_type": "markdown",
      "id": "1881c3d6",
      "metadata": {
        "id": "1881c3d6"
      },
      "source": [
        "**Print de variáveis**  \n",
        "Também é possível imprimir variáveis de forma simples, basta passar o nome dado para a variável dentro dos parênteses."
      ]
    },
    {
      "cell_type": "code",
      "execution_count": null,
      "id": "7b75f589",
      "metadata": {
        "id": "7b75f589"
      },
      "outputs": [],
      "source": []
    },
    {
      "attachments": {},
      "cell_type": "markdown",
      "id": "d39ad7cc",
      "metadata": {
        "id": "d39ad7cc"
      },
      "source": [
        "E se for necessário imprimir a mensagem 'Olá, eu sou Roberto Pontes\", de forma que o nome e o sobrenome sejam provenientes de variáveis nome e sobrenome."
      ]
    },
    {
      "cell_type": "code",
      "execution_count": null,
      "id": "71c90ef6",
      "metadata": {
        "id": "71c90ef6"
      },
      "outputs": [],
      "source": []
    },
    {
      "attachments": {},
      "cell_type": "markdown",
      "id": "b6b3c143",
      "metadata": {
        "id": "b6b3c143"
      },
      "source": [
        "**Print com f string**  \n",
        "Outra forma de utilizarmos o print com variáveis é por meio do que chamamos de f string."
      ]
    },
    {
      "cell_type": "code",
      "execution_count": null,
      "id": "376ddf37",
      "metadata": {
        "id": "376ddf37"
      },
      "outputs": [],
      "source": []
    },
    {
      "cell_type": "code",
      "execution_count": null,
      "id": "7eaa7dbb",
      "metadata": {
        "id": "7eaa7dbb",
        "outputId": "4fc2f3e2-49b5-42d8-f1ae-be4c72a4c687"
      },
      "outputs": [
        {
          "name": "stdout",
          "output_type": "stream",
          "text": [
            "A idade é 26 anos e meu nome Bruno\n"
          ]
        }
      ],
      "source": []
    },
    {
      "attachments": {},
      "cell_type": "markdown",
      "id": "f51d5964",
      "metadata": {
        "id": "f51d5964"
      },
      "source": [
        "**Bora praticar!**  \n",
        "Escreva um programa que receba seu nome, sua idade e hobby e escreva uma única sentença que seja, por exemplo, \"Meu nome é Bruno, tenho 29 anos e meu hobby é praticar esportes\""
      ]
    },
    {
      "cell_type": "code",
      "execution_count": null,
      "id": "3a85f961",
      "metadata": {
        "id": "3a85f961"
      },
      "outputs": [],
      "source": [
        "\n"
      ]
    },
    {
      "attachments": {},
      "cell_type": "markdown",
      "id": "0468efe1",
      "metadata": {
        "id": "0468efe1"
      },
      "source": [
        "## Operadores Algébricos\n",
        "\n",
        "Rotineiramente nos deparamos com a necessidade de realizarmos cálculos, para isso podemos utilizar os operadores algébricos como conhecemos na matemática tradicional."
      ]
    },
    {
      "attachments": {},
      "cell_type": "markdown",
      "id": "fb401a8b",
      "metadata": {
        "id": "fb401a8b"
      },
      "source": [
        "**Soma de dois valores**"
      ]
    },
    {
      "cell_type": "code",
      "execution_count": null,
      "id": "f99c680d",
      "metadata": {
        "id": "f99c680d"
      },
      "outputs": [],
      "source": [
        "\n"
      ]
    },
    {
      "cell_type": "code",
      "execution_count": null,
      "id": "eb3c61d1",
      "metadata": {
        "id": "eb3c61d1"
      },
      "outputs": [],
      "source": [
        "\n"
      ]
    },
    {
      "attachments": {},
      "cell_type": "markdown",
      "id": "c69dcb20",
      "metadata": {
        "id": "c69dcb20"
      },
      "source": [
        "Resumindo:"
      ]
    },
    {
      "attachments": {},
      "cell_type": "markdown",
      "id": "cf6d43b8",
      "metadata": {
        "id": "cf6d43b8"
      },
      "source": [
        "| Símbolo | Operação        |\n",
        "|---------|-----------------|\n",
        "|    +    | soma            |\n",
        "|    -    | subtração       |\n",
        "|    *    | multiplicação   |\n",
        "|    /    | divisão         |\n",
        "|    //   | divisão inteira |\n",
        "|    %    | resto           |\n",
        "|    **   | potência        |"
      ]
    },
    {
      "attachments": {},
      "cell_type": "markdown",
      "id": "be41659d",
      "metadata": {
        "id": "be41659d"
      },
      "source": [
        "**Utilizando variáveis**"
      ]
    },
    {
      "cell_type": "code",
      "execution_count": 83,
      "id": "26f0830f",
      "metadata": {
        "id": "26f0830f"
      },
      "outputs": [],
      "source": [
        "a = 21"
      ]
    },
    {
      "cell_type": "code",
      "execution_count": 84,
      "id": "079b8c40",
      "metadata": {},
      "outputs": [
        {
          "data": {
            "text/plain": [
              "1"
            ]
          },
          "execution_count": 84,
          "metadata": {},
          "output_type": "execute_result"
        }
      ],
      "source": [
        "a % 2"
      ]
    },
    {
      "cell_type": "code",
      "execution_count": 82,
      "id": "509e037c",
      "metadata": {},
      "outputs": [
        {
          "data": {
            "text/plain": [
              "7"
            ]
          },
          "execution_count": 82,
          "metadata": {},
          "output_type": "execute_result"
        }
      ],
      "source": [
        "a = 21 // 3\n",
        "a"
      ]
    },
    {
      "cell_type": "code",
      "execution_count": 69,
      "id": "2bab0383",
      "metadata": {},
      "outputs": [
        {
          "data": {
            "text/plain": [
              "float"
            ]
          },
          "execution_count": 69,
          "metadata": {},
          "output_type": "execute_result"
        }
      ],
      "source": [
        "type(round(18.88, 1))"
      ]
    },
    {
      "cell_type": "code",
      "execution_count": 72,
      "id": "5ad6403c",
      "metadata": {},
      "outputs": [
        {
          "data": {
            "text/plain": [
              "'18.9'"
            ]
          },
          "execution_count": 72,
          "metadata": {},
          "output_type": "execute_result"
        }
      ],
      "source": [
        "valor = 18.88\n",
        "f\"{valor:.2f}\""
      ]
    },
    {
      "attachments": {},
      "cell_type": "markdown",
      "id": "eee72ab7",
      "metadata": {},
      "source": [
        "Descobrir como fazer aparecer \"18.8\" na string"
      ]
    },
    {
      "attachments": {},
      "cell_type": "markdown",
      "id": "b40ef83a",
      "metadata": {
        "id": "b40ef83a"
      },
      "source": [
        "**Bora praticar!**  \n",
        "Com tudo que vimos até o momento faça um programa que solicite ao usuário que insira seu ano de nascimento. Desconsiderando o mês do ano de nascimento, emita uma mensagem dizendo quantos anos ele possui."
      ]
    },
    {
      "cell_type": "code",
      "execution_count": null,
      "id": "ea4f2c7d",
      "metadata": {
        "id": "ea4f2c7d",
        "outputId": "92d23b59-e72c-42a1-946d-c00b300868c7"
      },
      "outputs": [
        {
          "name": "stdout",
          "output_type": "stream",
          "text": [
            "Sua idade é 26 anos\n"
          ]
        }
      ],
      "source": []
    },
    {
      "attachments": {},
      "cell_type": "markdown",
      "id": "c0bfad1f",
      "metadata": {
        "id": "c0bfad1f"
      },
      "source": [
        "## Operadores de Comparação  \n",
        "Os operadores de comparação são aqueles que possuem o objetivo de analisar os valores de uma expressão e retornar um valor booleano, ou seja, verdadeiro (1) ou falso (0)."
      ]
    },
    {
      "cell_type": "code",
      "execution_count": 85,
      "id": "ec142f45",
      "metadata": {
        "id": "ec142f45"
      },
      "outputs": [
        {
          "data": {
            "text/plain": [
              "False"
            ]
          },
          "execution_count": 85,
          "metadata": {},
          "output_type": "execute_result"
        }
      ],
      "source": [
        "idade >= 60"
      ]
    },
    {
      "attachments": {},
      "cell_type": "markdown",
      "id": "ffe1bab4",
      "metadata": {},
      "source": [
        "== igual a\n",
        "!= diferente de\n",
        "> maior que\n",
        "< menor que\n",
        ">= maior ou igual a\n",
        "<= menor ou igual a"
      ]
    },
    {
      "cell_type": "code",
      "execution_count": 102,
      "id": "10769d48",
      "metadata": {
        "id": "10769d48"
      },
      "outputs": [
        {
          "data": {
            "text/plain": [
              "True"
            ]
          },
          "execution_count": 102,
          "metadata": {},
          "output_type": "execute_result"
        }
      ],
      "source": []
    },
    {
      "cell_type": "code",
      "execution_count": null,
      "id": "5ff742e5",
      "metadata": {
        "id": "5ff742e5"
      },
      "outputs": [],
      "source": []
    },
    {
      "cell_type": "code",
      "execution_count": null,
      "id": "52c4dac5",
      "metadata": {
        "id": "52c4dac5"
      },
      "outputs": [],
      "source": []
    },
    {
      "cell_type": "code",
      "execution_count": null,
      "id": "cf7833ca",
      "metadata": {
        "id": "cf7833ca",
        "outputId": "ad8da731-ff50-4123-8f2e-879d13a1c3e2"
      },
      "outputs": [
        {
          "data": {
            "text/plain": [
              "bool"
            ]
          },
          "execution_count": 20,
          "metadata": {},
          "output_type": "execute_result"
        }
      ],
      "source": []
    },
    {
      "cell_type": "code",
      "execution_count": null,
      "id": "39d823ac",
      "metadata": {
        "id": "39d823ac",
        "outputId": "8127fb45-a027-4c15-a1ae-8aa1c1575857"
      },
      "outputs": [
        {
          "data": {
            "text/plain": [
              "int"
            ]
          },
          "execution_count": 21,
          "metadata": {},
          "output_type": "execute_result"
        }
      ],
      "source": []
    },
    {
      "attachments": {},
      "cell_type": "markdown",
      "id": "be2ff254",
      "metadata": {
        "id": "be2ff254"
      },
      "source": [
        "**Bora praticar!**  \n",
        "Imagine que você está implementando um sistema para verificar se os alunos de uma turma estudantil passaram na disciplina ou não. Para isso solicite que o usuário insira as notas das 4 provas realizadas por um estudante e calcule a média. Após isso, emita uma resposta booleana (True ou False) se o estudante passou na disciplina pensando que a média mínima para aprovação é que seja pelo menos 5."
      ]
    },
    {
      "cell_type": "code",
      "execution_count": 103,
      "id": "8794ca21",
      "metadata": {
        "id": "8794ca21",
        "outputId": "9fcad9d2-fa09-4747-d096-9f660b86faae",
        "scrolled": true
      },
      "outputs": [],
      "source": [
        "nota1 = input(\"Insira nota 1: \")\n",
        "nota2 = input(\"Insira nota 2: \")\n",
        "nota3 = input(\"Insira nota 3: \")\n",
        "nota4 = input(\"Insira nota 4: \")\n"
      ]
    },
    {
      "cell_type": "code",
      "execution_count": 105,
      "id": "078a3b48",
      "metadata": {},
      "outputs": [
        {
          "data": {
            "text/plain": [
              "'9'"
            ]
          },
          "execution_count": 105,
          "metadata": {},
          "output_type": "execute_result"
        }
      ],
      "source": [
        "nota2"
      ]
    },
    {
      "cell_type": "code",
      "execution_count": 106,
      "id": "a194d3f2",
      "metadata": {},
      "outputs": [],
      "source": [
        "nota1 = float(nota1)\n",
        "nota2 = float(nota2)\n",
        "nota3 = float(nota3)\n",
        "nota4 = float(nota4)"
      ]
    },
    {
      "cell_type": "code",
      "execution_count": 107,
      "id": "293d19ac",
      "metadata": {},
      "outputs": [
        {
          "data": {
            "text/plain": [
              "6.0"
            ]
          },
          "execution_count": 107,
          "metadata": {},
          "output_type": "execute_result"
        }
      ],
      "source": [
        "nota4"
      ]
    },
    {
      "cell_type": "code",
      "execution_count": 108,
      "id": "4acd15a5",
      "metadata": {},
      "outputs": [],
      "source": [
        "media = (nota1 + nota2 + nota3 + nota4)/4"
      ]
    },
    {
      "cell_type": "code",
      "execution_count": 109,
      "id": "9e8d1931",
      "metadata": {},
      "outputs": [
        {
          "data": {
            "text/plain": [
              "7.5"
            ]
          },
          "execution_count": 109,
          "metadata": {},
          "output_type": "execute_result"
        }
      ],
      "source": [
        "media"
      ]
    },
    {
      "cell_type": "code",
      "execution_count": 115,
      "id": "ce9bcbee",
      "metadata": {},
      "outputs": [
        {
          "ename": "NameError",
          "evalue": "name 'mean' is not defined",
          "output_type": "error",
          "traceback": [
            "\u001b[0;31m---------------------------------------------------------------------------\u001b[0m",
            "\u001b[0;31mNameError\u001b[0m                                 Traceback (most recent call last)",
            "Cell \u001b[0;32mIn[115], line 1\u001b[0m\n\u001b[0;32m----> 1\u001b[0m media \u001b[39m=\u001b[39m mean(nota1, nota2)\n",
            "\u001b[0;31mNameError\u001b[0m: name 'mean' is not defined"
          ]
        }
      ],
      "source": [
        "media = mean(nota1, nota2)"
      ]
    },
    {
      "cell_type": "code",
      "execution_count": 114,
      "id": "1df9bcaa",
      "metadata": {},
      "outputs": [
        {
          "data": {
            "text/plain": [
              "False"
            ]
          },
          "execution_count": 114,
          "metadata": {},
          "output_type": "execute_result"
        }
      ],
      "source": [
        "media >= 5"
      ]
    },
    {
      "attachments": {},
      "cell_type": "markdown",
      "id": "65eb1662",
      "metadata": {
        "id": "65eb1662"
      },
      "source": [
        "Crie um algoritmo que calcule o IMC (índice de massa corporal). O IMC é calculado com a formula PESO/(ALTURA ^ 2). Para isso, coloque as informações nas variáveis e ao final apresente o resultado como no exemplo: \"O IMC é 18\""
      ]
    },
    {
      "cell_type": "code",
      "execution_count": null,
      "id": "0e39a63a",
      "metadata": {
        "id": "0e39a63a"
      },
      "outputs": [],
      "source": []
    },
    {
      "attachments": {},
      "cell_type": "markdown",
      "id": "3508edd6",
      "metadata": {
        "id": "3508edd6"
      },
      "source": [
        "Escreva um algoritmo que calcule (x + y) * (x + y). Os valores de x e y devem ser inseridos pelo usuario"
      ]
    },
    {
      "cell_type": "code",
      "execution_count": null,
      "id": "6de3eaf0",
      "metadata": {
        "id": "6de3eaf0"
      },
      "outputs": [],
      "source": []
    }
  ],
  "metadata": {
    "colab": {
      "collapsed_sections": [
        "90d69dd0",
        "0468efe1",
        "c0bfad1f"
      ],
      "include_colab_link": true,
      "provenance": []
    },
    "kernelspec": {
      "display_name": "Python 3.9.13 64-bit (windows store)",
      "language": "python",
      "name": "python3"
    },
    "language_info": {
      "codemirror_mode": {
        "name": "ipython",
        "version": 3
      },
      "file_extension": ".py",
      "mimetype": "text/x-python",
      "name": "python",
      "nbconvert_exporter": "python",
      "pygments_lexer": "ipython3",
      "version": "3.8.16"
    },
    "vscode": {
      "interpreter": {
        "hash": "707ec6369cc8364d856afa962bf87673ae9b32683b44e418706a06c970307b3e"
      }
    }
  },
  "nbformat": 4,
  "nbformat_minor": 5
}
