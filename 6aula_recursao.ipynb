{
  "nbformat": 4,
  "nbformat_minor": 0,
  "metadata": {
    "colab": {
      "provenance": []
    },
    "kernelspec": {
      "name": "python3",
      "display_name": "Python 3"
    },
    "language_info": {
      "name": "python"
    }
  },
  "cells": [
    {
      "cell_type": "markdown",
      "source": [
        "# Aula"
      ],
      "metadata": {
        "id": "NuO8CQyclt4d"
      }
    },
    {
      "cell_type": "markdown",
      "source": [
        "## 1. Sendo novato"
      ],
      "metadata": {
        "id": "rdk_JVJNJXuT"
      }
    },
    {
      "cell_type": "markdown",
      "source": [
        "### 1.1. Contexto"
      ],
      "metadata": {
        "id": "Q4j1L7famPQo"
      }
    },
    {
      "cell_type": "markdown",
      "source": [
        "Você foi contratade pela Space Enterprise, uma empresa interplanetária que produz naves espaciais, para ser desenvolvedor Python (a \"única\" linguagem de programação utilizada pela empresa)."
      ],
      "metadata": {
        "id": "GlPKu-NrKmwx"
      }
    },
    {
      "cell_type": "markdown",
      "source": [
        "### 1.2. Tarefa"
      ],
      "metadata": {
        "id": "MBqq05roKheo"
      }
    },
    {
      "cell_type": "markdown",
      "source": [
        "A empresa quer colocar um telão com a contagem regressiva próxima às estações de lançamento das naves.\n",
        "\n",
        "Cada lançamento tem uma contagem regressiva que começa com um número específico. Por exemplo, a Lovelace III é uma nave que é lançada com a contagem iniciando em 1012, em homenagem ao dia de aniversário de Ada Lovelace (10 de dezembro de 1815), mãe da computação.\n",
        "\n",
        "Você foi encarregado então, de criar uma função para fazer a contagem regressiva a partir de um número inteiro n (argumento da função) para utilizarem nos lançamentos de foguete."
      ],
      "metadata": {
        "id": "43W6vyjnKre0"
      }
    },
    {
      "cell_type": "markdown",
      "source": [
        "### 1.3. Restrições"
      ],
      "metadata": {
        "id": "b4vHL8gQKjwR"
      }
    },
    {
      "cell_type": "markdown",
      "source": [
        "É importante notar, porém, que o telão que irá executar sua função tem uma limitação de hardware que impede a utilização de do Python convencional, de modo que o seu software deve rodar em uPython (micro python). O uPython é uma linguagem com a mesma sintaxe de Python, porém que permite apenas a utilização de variáveis simples e funções, não sendo possível utilizar listas, dicionários e outras estruturas de dados mais elaboradas."
      ],
      "metadata": {
        "id": "AaimhOHNKuL_"
      }
    },
    {
      "cell_type": "markdown",
      "source": [
        "### 1.4. Exemplos"
      ],
      "metadata": {
        "id": "4Dj1rLCFKlY2"
      }
    },
    {
      "cell_type": "markdown",
      "source": [
        "Um exemplo do comportamento esperado para a função é o seguinte:\n",
        "\n",
        "Chamando a função\n",
        "```py\n",
        "countdown(5)\n",
        "```\n",
        "Recebemos na saída padrão\n",
        "```\n",
        "5\n",
        "4\n",
        "3\n",
        "2\n",
        "1\n",
        "Launch!\n",
        "```"
      ],
      "metadata": {
        "id": "hI7Jzh9EKw4M"
      }
    },
    {
      "cell_type": "markdown",
      "source": [
        "## 2. Soluções"
      ],
      "metadata": {
        "id": "ZJ5Gyc-2K4aN"
      }
    },
    {
      "cell_type": "markdown",
      "source": [
        "### 2.1. input"
      ],
      "metadata": {
        "id": "D_L62uWrLfjd"
      }
    },
    {
      "cell_type": "code",
      "source": [
        "n = int(input(\"Digite o tempo em segundos antes do lançamento\"))\n",
        "\n",
        "while n > 0:\n",
        "    print(n)\n",
        "    n = n - 1\n",
        "print(\"Launch!\")"
      ],
      "metadata": {
        "colab": {
          "base_uri": "https://localhost:8080/"
        },
        "id": "94xRQXrYLT7b",
        "outputId": "ed725bb2-e0d7-4843-90dd-67d7408458bf"
      },
      "execution_count": 1,
      "outputs": [
        {
          "output_type": "stream",
          "name": "stdout",
          "text": [
            "Digite o tempo em segundos antes do lançamento5\n",
            "5\n",
            "4\n",
            "3\n",
            "2\n",
            "1\n",
            "Launch!\n"
          ]
        }
      ]
    },
    {
      "cell_type": "markdown",
      "source": [
        "A solução realmente imprime o resultado esperado caso preenchermos o valor n na entrada, mas não é uma função que pode ser reutilizada no telão."
      ],
      "metadata": {
        "id": "KizbAj1QLj8X"
      }
    },
    {
      "cell_type": "markdown",
      "source": [
        "### 2.2. for range"
      ],
      "metadata": {
        "id": "JNlKyBAwLyJN"
      }
    },
    {
      "cell_type": "code",
      "source": [
        "def countdown(n):\n",
        "    for i in range(n, 0, -1):\n",
        "        print(i)\n",
        "    print(\"Launch!\")"
      ],
      "metadata": {
        "id": "NPlHixa-L9Ra"
      },
      "execution_count": 2,
      "outputs": []
    },
    {
      "cell_type": "code",
      "source": [
        "countdown(5)"
      ],
      "metadata": {
        "colab": {
          "base_uri": "https://localhost:8080/"
        },
        "id": "SS2oskXJMwcT",
        "outputId": "28ad9fd2-4a26-45ee-bf9b-1b7f41c63a7d"
      },
      "execution_count": 3,
      "outputs": [
        {
          "output_type": "stream",
          "name": "stdout",
          "text": [
            "5\n",
            "4\n",
            "3\n",
            "2\n",
            "1\n",
            "Launch!\n"
          ]
        }
      ]
    },
    {
      "cell_type": "markdown",
      "source": [
        "A solução realmente imprimiria o resultado esperado caso utilizassemos Python, mas utiliza estruturas de dados incompatíveis com o uPython, de modo que não seria possível utilizá-la no telão."
      ],
      "metadata": {
        "id": "M9Ypf-XMMTXi"
      }
    },
    {
      "cell_type": "markdown",
      "source": [
        "### 2.3. while"
      ],
      "metadata": {
        "id": "9S2El1mSMmov"
      }
    },
    {
      "cell_type": "code",
      "execution_count": 4,
      "metadata": {
        "id": "2YoDsc9ckqRk"
      },
      "outputs": [],
      "source": [
        "def countdown(n):\n",
        "    while n > 0:\n",
        "        print(n)\n",
        "        n -= 1\n",
        "    print(\"Launch!\")"
      ]
    },
    {
      "cell_type": "code",
      "source": [
        "countdown(5)"
      ],
      "metadata": {
        "colab": {
          "base_uri": "https://localhost:8080/"
        },
        "id": "ugPs1D42nO0-",
        "outputId": "976a3548-caf5-448f-9fbf-ac8a11107e80"
      },
      "execution_count": 5,
      "outputs": [
        {
          "output_type": "stream",
          "name": "stdout",
          "text": [
            "5\n",
            "4\n",
            "3\n",
            "2\n",
            "1\n",
            "Launch!\n"
          ]
        }
      ]
    },
    {
      "cell_type": "markdown",
      "source": [
        "A função atende aos requisitos do problema."
      ],
      "metadata": {
        "id": "oA_JzQFaMyp-"
      }
    },
    {
      "cell_type": "markdown",
      "source": [
        "### 2.4. Testes"
      ],
      "metadata": {
        "id": "_R-LrbFgM8yL"
      }
    },
    {
      "cell_type": "markdown",
      "source": [
        "Escreva testes unitários para a função, de modo a:\n",
        "\n",
        "* Atestar a favor da corretude da solução;\n",
        "* Explicitar o comportamento esperado (pseudo documentação);\n",
        "* Propiciar melhor manutenibilidade."
      ],
      "metadata": {
        "id": "0uOVQ-wFM_vi"
      }
    },
    {
      "cell_type": "markdown",
      "source": [
        "## 3. Treinando novatos"
      ],
      "metadata": {
        "id": "nrrnnURcOL-3"
      }
    },
    {
      "cell_type": "markdown",
      "source": [
        "### 3.1. Contexto"
      ],
      "metadata": {
        "id": "Pl-qyfQbQGj0"
      }
    },
    {
      "cell_type": "markdown",
      "source": [
        "Agora que você já sabe resolver e testar a solução, surgiram novas demandas que demandaram seu tempo.\n",
        "\n",
        "Acontece que a empresa tem a política interna de colocar o responsável pelo código sob plantão sempre que ele for utilizado. Portanto, seria interessante que você conseguisse ajudar um estagiário a assumir essa responsabilidade."
      ],
      "metadata": {
        "id": "ax-s61pXPFs4"
      }
    },
    {
      "cell_type": "markdown",
      "source": [
        "### 3.2. Tarefa"
      ],
      "metadata": {
        "id": "nse2e6cWQ863"
      }
    },
    {
      "cell_type": "markdown",
      "source": [
        "Acontece que o estagiário não aprendeu as estruturas de repetição `while` e `for` utilizadas por você.\n",
        "\n",
        "Então você decide ajudar o estagiário a estruturar uma solução inicial que poupe o seu tempo. Você propoe ao estagiário que:\n",
        "\n",
        "* Sempre que n for igual a 1, ele deve imprimir a solução, já que a solução é sempre a mesma e não necessitará das estruturas de repetição;\n",
        "* Quando n for maior do que 1, ele deve imprimir n e te chamar para imprimir os demais números da contagem regressiva.\n",
        "\n",
        "Dessa forma, apesar de não se livrar completamente da tarefa, você ganhará algum tempo para outras tarefas."
      ],
      "metadata": {
        "id": "uM2p6hyKRCpm"
      }
    },
    {
      "cell_type": "markdown",
      "source": [
        "### 3.3. Solução"
      ],
      "metadata": {
        "id": "jgPCB5IDS81J"
      }
    },
    {
      "cell_type": "code",
      "source": [
        "def intern_countdown(n):\n",
        "    if n == 1:\n",
        "        print(n)\n",
        "        print(\"Launch!\")\n",
        "    else:\n",
        "        print(n)\n",
        "        countdown(n - 1)"
      ],
      "metadata": {
        "id": "YSsPmlEHqJnu"
      },
      "execution_count": 6,
      "outputs": []
    },
    {
      "cell_type": "code",
      "source": [
        "intern_countdown(5)"
      ],
      "metadata": {
        "colab": {
          "base_uri": "https://localhost:8080/"
        },
        "id": "dhwpFqTKqS0L",
        "outputId": "489ab4f5-a4f4-47d0-c8c6-78d17282ca55"
      },
      "execution_count": 7,
      "outputs": [
        {
          "output_type": "stream",
          "name": "stdout",
          "text": [
            "5\n",
            "4\n",
            "3\n",
            "2\n",
            "1\n",
            "Launch!\n"
          ]
        }
      ]
    },
    {
      "cell_type": "markdown",
      "source": [
        "Vendo o programa desenvolvido pelo estagiário, é possível identificar alguma simplificação lógica ou estilística?"
      ],
      "metadata": {
        "id": "vBWTGxPFTt6A"
      }
    },
    {
      "cell_type": "code",
      "source": [
        "def intern_countdown(n):\n",
        "    print(n)\n",
        "    if n == 1:\n",
        "        print(\"Launch!\")\n",
        "    else:\n",
        "        countdown(n - 1)"
      ],
      "metadata": {
        "id": "fJCc9SzuUE4G"
      },
      "execution_count": 8,
      "outputs": []
    },
    {
      "cell_type": "code",
      "source": [
        "intern_countdown(5)"
      ],
      "metadata": {
        "colab": {
          "base_uri": "https://localhost:8080/"
        },
        "id": "uJF4VhBdUWp0",
        "outputId": "2c1ffd50-bb44-4e6a-94c7-8d3cfeeef4ca"
      },
      "execution_count": 9,
      "outputs": [
        {
          "output_type": "stream",
          "name": "stdout",
          "text": [
            "5\n",
            "4\n",
            "3\n",
            "2\n",
            "1\n",
            "Launch!\n"
          ]
        }
      ]
    },
    {
      "cell_type": "markdown",
      "source": [
        "### 3.3. Autonomia"
      ],
      "metadata": {
        "id": "YxiKmJZ1Ucl7"
      }
    },
    {
      "cell_type": "markdown",
      "source": [
        "O estagiário após executar algumas vezes o código que desenvolveu, percebe que ele não precisa mais da sua ajuda nem de uma estrutura de repetição para resolver o problema, ele já sabe resolver o problema!\n",
        "\n",
        "Qual será a solução encontrada pelo estagiário?"
      ],
      "metadata": {
        "id": "NgDzyZFcUen-"
      }
    },
    {
      "cell_type": "code",
      "source": [
        "def intern_countdown(n):\n",
        "    print(n)\n",
        "    if n == 1:\n",
        "        print(\"Launch!\")\n",
        "    else:\n",
        "        intern_countdown(n - 1)"
      ],
      "metadata": {
        "id": "SxeoGmgFuuS9"
      },
      "execution_count": 10,
      "outputs": []
    },
    {
      "cell_type": "code",
      "source": [
        "intern_countdown(5)"
      ],
      "metadata": {
        "colab": {
          "base_uri": "https://localhost:8080/"
        },
        "id": "8LnyW38FV6ux",
        "outputId": "cb83df71-12ec-4375-b988-fee8301e7d7f"
      },
      "execution_count": 11,
      "outputs": [
        {
          "output_type": "stream",
          "name": "stdout",
          "text": [
            "5\n",
            "4\n",
            "3\n",
            "2\n",
            "1\n",
            "Launch!\n"
          ]
        }
      ]
    },
    {
      "cell_type": "markdown",
      "source": [
        "### 3.4. Corretude"
      ],
      "metadata": {
        "id": "z-EWu0HdVCoV"
      }
    },
    {
      "cell_type": "markdown",
      "source": [
        "Será que existe alguma inspiração por trás da incrível solução inventada pelo estagiário?\n",
        "\n",
        "Será que conseguimos provar a corretude do algoritmo?"
      ],
      "metadata": {
        "id": "123yKhrhVFD5"
      }
    },
    {
      "cell_type": "markdown",
      "source": [
        "TODO: principio da indução matemática"
      ],
      "metadata": {
        "id": "vothrPISVaBf"
      }
    }
  ]
}