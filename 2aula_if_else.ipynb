{
  "cells": [
    {
      "cell_type": "markdown",
      "metadata": {
        "id": "view-in-github",
        "colab_type": "text"
      },
      "source": [
        "<a href=\"https://colab.research.google.com/github/robertosgpontes/ADA995CT/blob/main/2aula_if_else.ipynb\" target=\"_parent\"><img src=\"https://colab.research.google.com/assets/colab-badge.svg\" alt=\"Open In Colab\"/></a>"
      ]
    },
    {
      "cell_type": "markdown",
      "id": "be60e347",
      "metadata": {
        "id": "be60e347"
      },
      "source": [
        "# Tópicos da aula\n",
        "\n",
        "- Estrutura condicional e controle de fluxo\n",
        "- Comando if\n",
        "- Comando else\n",
        "- Comando Elif\n",
        "\n",
        "https://docs.python.org/3/tutorial/controlflow.html\n",
        "\n",
        "https://realpython.com/python-conditional-statements/"
      ]
    },
    {
      "cell_type": "markdown",
      "id": "e2459c5a",
      "metadata": {
        "id": "e2459c5a"
      },
      "source": [
        "Imagine que o critério de aprovação em uma escola seja a média superior a 7.0 e presença superior a 75%. Neste caso, o aluno precisa atender a ambos os critérios para ser aprovado. Se ele tirou uma ótima nota, mas faltou demais, será reprovado. Se ele compareceu a todas as aulas, mas teve notas baixas, idem."
      ]
    },
    {
      "cell_type": "code",
      "execution_count": 5,
      "id": "881f2b88",
      "metadata": {
        "ExecuteTime": {
          "end_time": "2022-10-13T01:12:32.401047Z",
          "start_time": "2022-10-13T01:12:28.921831Z"
        },
        "id": "881f2b88",
        "colab": {
          "base_uri": "https://localhost:8080/"
        },
        "outputId": "d905339d-e95a-448d-e494-1ba044805115"
      },
      "outputs": [
        {
          "output_type": "stream",
          "name": "stdout",
          "text": [
            "True\n",
            "True\n"
          ]
        }
      ],
      "source": [
        "nota = 7.1\n",
        "presenca = 0.8\n",
        "\n",
        "print(nota > 7 and presenca > 0.75)\n",
        "\n",
        "print(nota > 7 or presenca > 0.75)\n"
      ]
    },
    {
      "cell_type": "markdown",
      "id": "c04bf40c",
      "metadata": {
        "id": "c04bf40c"
      },
      "source": [
        "**AND** é uma conjunção lógica e o **OR** é uma disjunção lógica. O **not** é a negação lógica.\n",
        "\n",
        "| *A*   | *B*   | *A and B* | *A or B* | *not A* |\n",
        "|-------|-------|-----------|----------|---------|\n",
        "| False | False | False     | False    | True    |\n",
        "| False | True  | False     | True     | True    |\n",
        "| True  | False | False     | True     | False   |\n",
        "| True  | True  | True      | True     | False   |\n",
        "\n"
      ]
    },
    {
      "cell_type": "markdown",
      "id": "10481cac",
      "metadata": {
        "id": "10481cac"
      },
      "source": [
        "Será que conseguimos escrever o problema acima de uma forma mais fácil?"
      ]
    },
    {
      "cell_type": "markdown",
      "id": "9d7a5481",
      "metadata": {
        "id": "9d7a5481"
      },
      "source": [
        "## Estrutura condicional"
      ]
    },
    {
      "cell_type": "markdown",
      "id": "aa526a6e",
      "metadata": {
        "id": "aa526a6e"
      },
      "source": [
        "- if"
      ]
    },
    {
      "cell_type": "markdown",
      "id": "06fc2293",
      "metadata": {
        "id": "06fc2293"
      },
      "source": [
        "Obs.: Python é uma linguagem identada"
      ]
    },
    {
      "cell_type": "code",
      "execution_count": 7,
      "id": "8c81b91a",
      "metadata": {
        "ExecuteTime": {
          "end_time": "2022-10-13T00:34:26.457967Z",
          "start_time": "2022-10-13T00:34:20.965528Z"
        },
        "id": "8c81b91a"
      },
      "outputs": [],
      "source": [
        "nota = 6.9\n",
        "presenca = 0.8\n",
        "\n",
        "if (nota > 7 and presenca > 0.75):\n",
        "  print(\"Aprovado\")"
      ]
    },
    {
      "cell_type": "markdown",
      "id": "1eb77729",
      "metadata": {
        "id": "1eb77729"
      },
      "source": [
        "Está faltando alguma coisa"
      ]
    },
    {
      "cell_type": "code",
      "execution_count": 9,
      "id": "c5d79bfe",
      "metadata": {
        "ExecuteTime": {
          "end_time": "2022-10-13T00:53:37.740031Z",
          "start_time": "2022-10-13T00:53:35.939338Z"
        },
        "id": "c5d79bfe",
        "colab": {
          "base_uri": "https://localhost:8080/"
        },
        "outputId": "306b7ee3-40ba-4a99-967c-320c4b1ba69d"
      },
      "outputs": [
        {
          "output_type": "stream",
          "name": "stdout",
          "text": [
            "Aprovado\n"
          ]
        }
      ],
      "source": [
        "nota = 7.1\n",
        "presenca = 0.8\n",
        "\n",
        "if nota > 7 and presenca > 0.75:\n",
        "  print(\"Aprovado\")\n",
        "\n",
        "if not (nota > 7 and presenca > 0.75):\n",
        "  print(\"Reprovado\")"
      ]
    },
    {
      "cell_type": "markdown",
      "id": "8f37c922",
      "metadata": {
        "id": "8f37c922"
      },
      "source": [
        "- else"
      ]
    },
    {
      "cell_type": "code",
      "execution_count": 10,
      "id": "a77cd95d",
      "metadata": {
        "ExecuteTime": {
          "end_time": "2022-10-13T00:55:41.721790Z",
          "start_time": "2022-10-13T00:55:37.335509Z"
        },
        "id": "a77cd95d",
        "colab": {
          "base_uri": "https://localhost:8080/"
        },
        "outputId": "1992ec62-32a3-4e69-e083-4742cc7195e1"
      },
      "outputs": [
        {
          "output_type": "stream",
          "name": "stdout",
          "text": [
            "Passou :)\n"
          ]
        }
      ],
      "source": [
        "if nota > 7 and presenca > 0.75:\n",
        "    print('Passou :)')\n",
        "else:\n",
        "    print('Reprovou :(')"
      ]
    },
    {
      "cell_type": "markdown",
      "id": "d86dbcb8",
      "metadata": {
        "id": "d86dbcb8"
      },
      "source": [
        "Vamos incluir a recuperação nesse exemplo (para facilitar, vamos deixar de lado a presença). O aluno tem direito a recuperação se a média é maior que 5."
      ]
    },
    {
      "cell_type": "code",
      "execution_count": 13,
      "id": "51db386d",
      "metadata": {
        "ExecuteTime": {
          "end_time": "2022-10-13T02:10:53.323666Z",
          "start_time": "2022-10-13T02:10:49.694866Z"
        },
        "id": "51db386d",
        "colab": {
          "base_uri": "https://localhost:8080/"
        },
        "outputId": "a0340932-d925-4595-8682-b945290beebf"
      },
      "outputs": [
        {
          "output_type": "stream",
          "name": "stdout",
          "text": [
            "Reprovado\n",
            "terminou\n"
          ]
        }
      ],
      "source": [
        "nota = 4\n",
        "presenca = 0.8\n",
        "\n",
        "if nota > 7 and presenca > 0.75:\n",
        "   print('Aprovado!')\n",
        "elif nota >= 5.0 and presenca > 0.75:\n",
        "   print('Recuperação!')\n",
        "else:\n",
        "   print('Reprovado')\n",
        "\n",
        "print('terminou')"
      ]
    },
    {
      "cell_type": "markdown",
      "id": "8864bead",
      "metadata": {
        "id": "8864bead"
      },
      "source": [
        "Bora praticar!"
      ]
    },
    {
      "cell_type": "markdown",
      "id": "d0b81059",
      "metadata": {
        "id": "d0b81059"
      },
      "source": [
        "1) Faça um programa que peça a idade do usuário e imprima se ele é maior ou menor de 18 anos."
      ]
    },
    {
      "cell_type": "code",
      "execution_count": null,
      "id": "7d8d8b3c",
      "metadata": {
        "ExecuteTime": {
          "end_time": "2022-10-13T02:13:17.283724Z",
          "start_time": "2022-10-13T02:13:15.518483Z"
        },
        "id": "7d8d8b3c"
      },
      "outputs": [],
      "source": []
    },
    {
      "cell_type": "markdown",
      "id": "f2a4795b",
      "metadata": {
        "id": "f2a4795b"
      },
      "source": [
        "2) Faça um programa que peça um número e mostre se ele é positivo ou negativo."
      ]
    },
    {
      "cell_type": "code",
      "execution_count": null,
      "id": "fae9b9f8",
      "metadata": {
        "ExecuteTime": {
          "end_time": "2022-10-13T02:13:30.446230Z",
          "start_time": "2022-10-13T02:13:25.107319Z"
        },
        "id": "fae9b9f8"
      },
      "outputs": [],
      "source": []
    },
    {
      "cell_type": "markdown",
      "id": "afa5f36d",
      "metadata": {
        "id": "afa5f36d"
      },
      "source": [
        "3) Faça um programa que peça dois números e mostre o maior deles."
      ]
    },
    {
      "cell_type": "code",
      "execution_count": null,
      "id": "5a0929c9",
      "metadata": {
        "ExecuteTime": {
          "end_time": "2022-10-13T02:13:47.796296Z",
          "start_time": "2022-10-13T02:13:40.022621Z"
        },
        "id": "5a0929c9"
      },
      "outputs": [],
      "source": []
    },
    {
      "cell_type": "markdown",
      "id": "7e20b135",
      "metadata": {
        "ExecuteTime": {
          "end_time": "2022-10-13T02:14:01.965819Z",
          "start_time": "2022-10-13T02:14:01.958839Z"
        },
        "id": "7e20b135"
      },
      "source": [
        "4) Faça um programa que leia a validade das informações:\n",
        "\n",
        "a. Idade: entre 0 e 150;\n",
        "\n",
        "b. Salário: maior que 0;\n",
        "\n",
        "c. Sexo: M, F ou Outro;\n",
        "\n",
        "O programa deve imprimir uma mensagem de erro para cada informação inválida.'''"
      ]
    },
    {
      "cell_type": "code",
      "execution_count": 15,
      "id": "adeb00a4",
      "metadata": {
        "id": "adeb00a4",
        "colab": {
          "base_uri": "https://localhost:8080/"
        },
        "outputId": "62eb4b97-1213-4e74-b235-2977d3ff9997"
      },
      "outputs": [
        {
          "output_type": "stream",
          "name": "stdout",
          "text": [
            "Informe a idade: -1\n",
            "Informe o salário: -10\n",
            "Informe o sexo (M, F ou Outro): w\n",
            "ERROR: Idade fora das opções.\n",
            "ERROR: Salário fora das opções.\n",
            "ERROR: Sexo fora das opções.\n"
          ]
        }
      ],
      "source": [
        "idade = int(input('Informe a idade: '))\n",
        "salario = float(input('Informe o salário: '))\n",
        "sexo = input('Informe o sexo (M, F ou Outro): ')\n",
        "\n",
        "if idade < 0 or idade > 150:\n",
        "    print('ERROR: Idade fora das opções.')\n",
        "if salario < 0:\n",
        "    print('ERROR: Salário fora das opções.')\n",
        "if not(sexo == 'M' or sexo == 'F' or sexo =='Outro'):\n",
        "    print('ERROR: Sexo fora das opções.')"
      ]
    },
    {
      "cell_type": "markdown",
      "id": "cd2b1878",
      "metadata": {
        "id": "cd2b1878"
      },
      "source": [
        "5) Escreva um programa que peça a nota de 3 provas de um aluno e verifique se ele passou ou não de ano.\n",
        "Obs.: O aluno irá passar de ano se sua média for maior que 6."
      ]
    },
    {
      "cell_type": "code",
      "execution_count": null,
      "id": "ecf02c29",
      "metadata": {
        "id": "ecf02c29"
      },
      "outputs": [],
      "source": []
    },
    {
      "cell_type": "markdown",
      "id": "af2a70fb",
      "metadata": {
        "id": "af2a70fb"
      },
      "source": [
        "6) Faça um programa que mostre uma questão de múltipla escolha com 5 opções (letras a, b, c, d, e).\n",
        "Sabendo a resposta certa, o programa deve receber a opção do usuário e informar a letra que o usuário marcou e se a resposta está certa ou errada."
      ]
    },
    {
      "cell_type": "code",
      "execution_count": null,
      "id": "5e4911c3",
      "metadata": {
        "id": "5e4911c3"
      },
      "outputs": [],
      "source": []
    },
    {
      "cell_type": "markdown",
      "id": "1bde3c0f",
      "metadata": {
        "id": "1bde3c0f"
      },
      "source": [
        "7)\n",
        "Vamos fazer um programa para verificar quem é o assassino de um crime. Para descobrir o assassino,\n",
        "a polícia faz um pequeno questionário com 5 perguntas\n",
        "onde a resposta só pode ser sim ou não:\n",
        "\n",
        "a. Mora perto da vítima?\n",
        "\n",
        "b. Já trabalhou com a vítima?\n",
        "\n",
        "c. Telefonou para a vítima?\n",
        "\n",
        "d. Esteve no local do crime?\n",
        "\n",
        "e. Devia para a vítima?\n",
        "\n",
        "Cada resposta sim dá um ponto para o suspeito. A polícia considera que os suspeitos com 5 pontos são os assassinos, com 4 a 3 pontos\n",
        "são cúmplices e 2 pontos são apenas suspeitos, necessitando outras investigações. Valores iguais ou abaixo de 1 são liberados.'''"
      ]
    },
    {
      "cell_type": "code",
      "execution_count": null,
      "id": "5d76d820",
      "metadata": {
        "id": "5d76d820"
      },
      "outputs": [],
      "source": []
    },
    {
      "cell_type": "code",
      "execution_count": null,
      "id": "7f34d450",
      "metadata": {
        "id": "7f34d450"
      },
      "outputs": [],
      "source": []
    },
    {
      "cell_type": "markdown",
      "id": "486246ae",
      "metadata": {
        "ExecuteTime": {
          "end_time": "2022-10-13T02:15:54.837527Z",
          "start_time": "2022-10-13T02:15:54.826530Z"
        },
        "id": "486246ae"
      },
      "source": [
        "8) Um produto vai sofrer aumento de acordo com a Tabela 1 abaixo. Faça um programa que peça para o usuário digitar o valor do produto de acordo\n",
        "com o preço antigo e escreva uma das mensagens da Tabela 2, de acordo com o preço reajustado:\n",
        "\n",
        "Tabela 1\n",
        "\n",
        "| Preço Antigo         | % de aumento |\n",
        "|----------------------|--------------|\n",
        "| Até 50 reais         | 5%           |\n",
        "| Entre 50 e 100 reais | 10%          |\n",
        "| De 100 a 150 reais   | 13%          |\n",
        "| Acima de 150 reais   | 15%          |\n",
        "\n",
        "Tabela 2\n",
        "\n",
        "| Preço Novo            | Mensagem   |\n",
        "|-----------------------|------------|\n",
        "| Até 80 reais          | Barato     |\n",
        "| Entre 80 e 115 reais  | Razoável   |\n",
        "| Entre 115 e 150 reais | Normal     |\n",
        "| Entre 150 e 170 reais | Caro       |\n",
        "| Acima de 170 reais    | Muito Caro |"
      ]
    },
    {
      "cell_type": "code",
      "execution_count": null,
      "id": "85c63f57",
      "metadata": {
        "id": "85c63f57"
      },
      "outputs": [],
      "source": []
    },
    {
      "cell_type": "markdown",
      "id": "0fdde56c",
      "metadata": {
        "id": "0fdde56c"
      },
      "source": [
        "9) Desafio 1 - Faça um programa que leia 3 números e informe o maior deles."
      ]
    },
    {
      "cell_type": "code",
      "execution_count": null,
      "id": "7925bc3a",
      "metadata": {
        "id": "7925bc3a"
      },
      "outputs": [],
      "source": []
    }
  ],
  "metadata": {
    "colab": {
      "provenance": [],
      "include_colab_link": true
    },
    "kernelspec": {
      "display_name": "Python 3.9.13 64-bit (windows store)",
      "language": "python",
      "name": "python3"
    },
    "language_info": {
      "codemirror_mode": {
        "name": "ipython",
        "version": 3
      },
      "file_extension": ".py",
      "mimetype": "text/x-python",
      "name": "python",
      "nbconvert_exporter": "python",
      "pygments_lexer": "ipython3",
      "version": "3.11.4"
    },
    "varInspector": {
      "cols": {
        "lenName": 16,
        "lenType": 16,
        "lenVar": 40
      },
      "kernels_config": {
        "python": {
          "delete_cmd_postfix": "",
          "delete_cmd_prefix": "del ",
          "library": "var_list.py",
          "varRefreshCmd": "print(var_dic_list())"
        },
        "r": {
          "delete_cmd_postfix": ") ",
          "delete_cmd_prefix": "rm(",
          "library": "var_list.r",
          "varRefreshCmd": "cat(var_dic_list()) "
        }
      },
      "types_to_exclude": [
        "module",
        "function",
        "builtin_function_or_method",
        "instance",
        "_Feature"
      ],
      "window_display": false
    },
    "vscode": {
      "interpreter": {
        "hash": "707ec6369cc8364d856afa962bf87673ae9b32683b44e418706a06c970307b3e"
      }
    }
  },
  "nbformat": 4,
  "nbformat_minor": 5
}