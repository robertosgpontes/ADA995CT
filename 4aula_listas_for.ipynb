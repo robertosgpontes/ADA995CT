{
  "cells": [
    {
      "cell_type": "markdown",
      "metadata": {
        "id": "view-in-github",
        "colab_type": "text"
      },
      "source": [
        "<a href=\"https://colab.research.google.com/github/robertosgpontes/ADA995CT/blob/main/4aula_listas_for.ipynb\" target=\"_parent\"><img src=\"https://colab.research.google.com/assets/colab-badge.svg\" alt=\"Open In Colab\"/></a>"
      ]
    },
    {
      "cell_type": "markdown",
      "id": "c5daa41c",
      "metadata": {
        "id": "c5daa41c"
      },
      "source": [
        "# Listas, Índices, Iterações de listas, Métodos de listas"
      ]
    },
    {
      "cell_type": "markdown",
      "id": "3db6fe50",
      "metadata": {
        "id": "3db6fe50"
      },
      "source": [
        "E se quisermos fazer o programa que a pessoa digita 10 numeros e dizemos o maior, conseguimos?\n",
        "\n",
        "E se quisermos o 2° maior? E se quisermos o 5º?\n",
        "\n",
        "Podemos resolver com **listas**"
      ]
    },
    {
      "cell_type": "markdown",
      "id": "f12432bd",
      "metadata": {
        "id": "f12432bd"
      },
      "source": [
        "- Listas:\n",
        "\n",
        "Listas são coleções de objetos em Python e é expressada por `[]`"
      ]
    },
    {
      "cell_type": "code",
      "execution_count": null,
      "id": "0d381daf",
      "metadata": {
        "ExecuteTime": {
          "end_time": "2022-10-16T23:31:25.992488Z",
          "start_time": "2022-10-16T23:31:25.972541Z"
        },
        "id": "0d381daf"
      },
      "outputs": [],
      "source": [
        "lista = []"
      ]
    },
    {
      "cell_type": "code",
      "execution_count": null,
      "id": "0b37acfb",
      "metadata": {
        "ExecuteTime": {
          "end_time": "2022-10-16T23:32:32.335830Z",
          "start_time": "2022-10-16T23:32:32.320000Z"
        },
        "id": "0b37acfb",
        "outputId": "197f2866-d562-4ff8-a300-bfdd0798da8c",
        "colab": {
          "base_uri": "https://localhost:8080/"
        }
      },
      "outputs": [
        {
          "output_type": "execute_result",
          "data": {
            "text/plain": [
              "list"
            ]
          },
          "metadata": {},
          "execution_count": 2
        }
      ],
      "source": [
        "type(lista)"
      ]
    },
    {
      "cell_type": "code",
      "source": [
        "lista2 = list()\n",
        "type(lista2)"
      ],
      "metadata": {
        "id": "xiqxC1vIa4xO",
        "outputId": "85180493-79e3-48a9-8cf0-bcc281036256",
        "colab": {
          "base_uri": "https://localhost:8080/"
        }
      },
      "id": "xiqxC1vIa4xO",
      "execution_count": null,
      "outputs": [
        {
          "output_type": "execute_result",
          "data": {
            "text/plain": [
              "list"
            ]
          },
          "metadata": {},
          "execution_count": 5
        }
      ]
    },
    {
      "cell_type": "code",
      "source": [
        "lista = [\"Bolo de Chocolate\", \"Pizza\", \"Iogurte\"]\n",
        "print(lista)"
      ],
      "metadata": {
        "id": "odfMM_aQbCxr",
        "outputId": "f55e9809-6127-4ef8-ef16-622c2a2b123a",
        "colab": {
          "base_uri": "https://localhost:8080/"
        }
      },
      "id": "odfMM_aQbCxr",
      "execution_count": null,
      "outputs": [
        {
          "output_type": "stream",
          "name": "stdout",
          "text": [
            "['Bolo de Chocolate', 'Pizza', 'Iogurte']\n"
          ]
        }
      ]
    },
    {
      "cell_type": "code",
      "source": [
        "lista = [\"Bolo de Chocolate\", \"Pizza\", \"Iogurte\", 180, 4.3, False]\n",
        "print(lista)"
      ],
      "metadata": {
        "id": "4GMN4tW6bWxw",
        "outputId": "4d58b0d8-6067-4201-8850-f02e6b5844ce",
        "colab": {
          "base_uri": "https://localhost:8080/"
        }
      },
      "id": "4GMN4tW6bWxw",
      "execution_count": null,
      "outputs": [
        {
          "output_type": "stream",
          "name": "stdout",
          "text": [
            "['Bolo de Chocolate', 'Pizza', 'Iogurte', 180, 4.3, False]\n"
          ]
        }
      ]
    },
    {
      "cell_type": "code",
      "source": [
        "type(lista)"
      ],
      "metadata": {
        "id": "t9JimRnGbhR5",
        "outputId": "3d763585-b4d9-45c0-8969-202fb2bfee7a",
        "colab": {
          "base_uri": "https://localhost:8080/"
        }
      },
      "id": "t9JimRnGbhR5",
      "execution_count": null,
      "outputs": [
        {
          "output_type": "execute_result",
          "data": {
            "text/plain": [
              "list"
            ]
          },
          "metadata": {},
          "execution_count": 9
        }
      ]
    },
    {
      "cell_type": "markdown",
      "id": "db33a0c3",
      "metadata": {
        "id": "db33a0c3"
      },
      "source": [
        "Em uma lista, a posição dos elementos é importante"
      ]
    },
    {
      "cell_type": "code",
      "execution_count": null,
      "id": "02b7270b",
      "metadata": {
        "ExecuteTime": {
          "end_time": "2022-10-16T23:33:06.577475Z",
          "start_time": "2022-10-16T23:33:06.569462Z"
        },
        "id": "02b7270b",
        "outputId": "299ab9c9-8de3-4858-8b80-eee4bd800e6f",
        "colab": {
          "base_uri": "https://localhost:8080/"
        }
      },
      "outputs": [
        {
          "output_type": "stream",
          "name": "stdout",
          "text": [
            "['Bolo de Chocolate', 'Pizza', 'Iogurte', 180, 4.3, False, ['abc', 123, 4.5]]\n"
          ]
        },
        {
          "output_type": "execute_result",
          "data": {
            "text/plain": [
              "list"
            ]
          },
          "metadata": {},
          "execution_count": 10
        }
      ],
      "source": [
        "lista_lista = [\"Bolo de Chocolate\", \"Pizza\", \"Iogurte\", 180, 4.3, False, ['abc', 123, 4.5]]\n",
        "print(lista_lista)\n",
        "type(lista)"
      ]
    },
    {
      "cell_type": "code",
      "source": [
        "matriz = [[1, 2, 3], [4 , 5, 6]]\n",
        "print(matriz)"
      ],
      "metadata": {
        "id": "CEz0WiwudRbZ",
        "outputId": "0008d1d7-b289-4319-9f34-c960dc405b63",
        "colab": {
          "base_uri": "https://localhost:8080/"
        }
      },
      "id": "CEz0WiwudRbZ",
      "execution_count": null,
      "outputs": [
        {
          "output_type": "stream",
          "name": "stdout",
          "text": [
            "[[1, 2, 3], [4, 5, 6]]\n"
          ]
        }
      ]
    },
    {
      "cell_type": "markdown",
      "id": "553baf4c",
      "metadata": {
        "ExecuteTime": {
          "end_time": "2022-10-16T22:53:52.221009Z",
          "start_time": "2022-10-16T22:53:52.204055Z"
        },
        "id": "553baf4c"
      },
      "source": [
        "O que podemos fazer com a lista?"
      ]
    },
    {
      "cell_type": "code",
      "execution_count": null,
      "id": "544879a5",
      "metadata": {
        "ExecuteTime": {
          "end_time": "2022-10-16T23:33:15.128601Z",
          "start_time": "2022-10-16T23:33:15.101673Z"
        },
        "id": "544879a5",
        "outputId": "09e086d7-7a0d-4a7f-8920-8d27e29fe5c0",
        "colab": {
          "base_uri": "https://localhost:8080/",
          "height": 35
        }
      },
      "outputs": [
        {
          "output_type": "execute_result",
          "data": {
            "text/plain": [
              "'Bolo de Chocolate'"
            ],
            "application/vnd.google.colaboratory.intrinsic+json": {
              "type": "string"
            }
          },
          "metadata": {},
          "execution_count": 11
        }
      ],
      "source": [
        "# podemos acessar os elementos da lista\n",
        "\n",
        "lista_lista[0]"
      ]
    },
    {
      "cell_type": "code",
      "source": [
        "lista_lista[6][1]"
      ],
      "metadata": {
        "id": "cop2wRbAc25D",
        "outputId": "e85f4de7-03af-4157-a8cd-cff03699b650",
        "colab": {
          "base_uri": "https://localhost:8080/"
        }
      },
      "id": "cop2wRbAc25D",
      "execution_count": null,
      "outputs": [
        {
          "output_type": "execute_result",
          "data": {
            "text/plain": [
              "123"
            ]
          },
          "metadata": {},
          "execution_count": 13
        }
      ]
    },
    {
      "cell_type": "code",
      "source": [
        "matriz[1][1]"
      ],
      "metadata": {
        "id": "oVIbKsh_deaX",
        "outputId": "b9b6f542-d3d4-41ff-efd3-40645903ffd8",
        "colab": {
          "base_uri": "https://localhost:8080/"
        }
      },
      "id": "oVIbKsh_deaX",
      "execution_count": null,
      "outputs": [
        {
          "output_type": "execute_result",
          "data": {
            "text/plain": [
              "5"
            ]
          },
          "metadata": {},
          "execution_count": 15
        }
      ]
    },
    {
      "cell_type": "code",
      "execution_count": null,
      "id": "009597d7",
      "metadata": {
        "ExecuteTime": {
          "end_time": "2022-10-16T23:33:07.835925Z",
          "start_time": "2022-10-16T23:33:07.818931Z"
        },
        "id": "009597d7",
        "outputId": "b494491e-8da2-4b5d-f161-cc26127dc716",
        "colab": {
          "base_uri": "https://localhost:8080/"
        }
      },
      "outputs": [
        {
          "output_type": "stream",
          "name": "stdout",
          "text": [
            "['Bolo de Chocolate', 'Pizza', 'Iogurte', 180, 4.3, False]\n"
          ]
        },
        {
          "output_type": "execute_result",
          "data": {
            "text/plain": [
              "6"
            ]
          },
          "metadata": {},
          "execution_count": 17
        }
      ],
      "source": [
        "# podemos saber a quantidade de elementos da lista\n",
        "print(lista)\n",
        "len(lista)"
      ]
    },
    {
      "cell_type": "code",
      "source": [
        "print(lista_lista)\n",
        "len(lista_lista)"
      ],
      "metadata": {
        "id": "OE1QC-FcejiG",
        "outputId": "b93fd8f2-77e6-44dc-c657-88b511f6c6be",
        "colab": {
          "base_uri": "https://localhost:8080/"
        }
      },
      "id": "OE1QC-FcejiG",
      "execution_count": null,
      "outputs": [
        {
          "output_type": "stream",
          "name": "stdout",
          "text": [
            "['Bolo de Chocolate', 'Pizza', 'Iogurte', 180, 4.3, False, ['abc', 123, 4.5]]\n"
          ]
        },
        {
          "output_type": "execute_result",
          "data": {
            "text/plain": [
              "7"
            ]
          },
          "metadata": {},
          "execution_count": 19
        }
      ]
    },
    {
      "cell_type": "code",
      "source": [
        "len(lista_lista[6])"
      ],
      "metadata": {
        "id": "TZP2nxSGecNA",
        "outputId": "8a04f26e-1856-4d5e-ddf2-3a3f8f406bad",
        "colab": {
          "base_uri": "https://localhost:8080/"
        }
      },
      "id": "TZP2nxSGecNA",
      "execution_count": null,
      "outputs": [
        {
          "output_type": "execute_result",
          "data": {
            "text/plain": [
              "3"
            ]
          },
          "metadata": {},
          "execution_count": 21
        }
      ]
    },
    {
      "cell_type": "code",
      "source": [
        "print(matriz)"
      ],
      "metadata": {
        "id": "irQ0fxypfWk3",
        "outputId": "c7988901-32ae-40de-8f77-7564bfb041fb",
        "colab": {
          "base_uri": "https://localhost:8080/"
        }
      },
      "id": "irQ0fxypfWk3",
      "execution_count": null,
      "outputs": [
        {
          "output_type": "stream",
          "name": "stdout",
          "text": [
            "[[1, 2, 3], [4, 5, 6]]\n"
          ]
        }
      ]
    },
    {
      "cell_type": "code",
      "source": [
        "len(matriz)"
      ],
      "metadata": {
        "id": "t3YPuP-afSjA",
        "outputId": "6fb78a42-bf16-45f9-ff5f-36800eaf3509",
        "colab": {
          "base_uri": "https://localhost:8080/"
        }
      },
      "id": "t3YPuP-afSjA",
      "execution_count": null,
      "outputs": [
        {
          "output_type": "execute_result",
          "data": {
            "text/plain": [
              "2"
            ]
          },
          "metadata": {},
          "execution_count": 23
        }
      ]
    },
    {
      "cell_type": "code",
      "source": [
        "len(matriz[0])"
      ],
      "metadata": {
        "id": "DNpiv50Uf3rX",
        "outputId": "810a2031-37d8-4bf9-93de-11461ffca6f5",
        "colab": {
          "base_uri": "https://localhost:8080/"
        }
      },
      "id": "DNpiv50Uf3rX",
      "execution_count": null,
      "outputs": [
        {
          "output_type": "execute_result",
          "data": {
            "text/plain": [
              "3"
            ]
          },
          "metadata": {},
          "execution_count": 24
        }
      ]
    },
    {
      "cell_type": "code",
      "execution_count": null,
      "id": "d0042f21",
      "metadata": {
        "ExecuteTime": {
          "end_time": "2022-10-16T23:38:49.990307Z",
          "start_time": "2022-10-16T23:38:49.969364Z"
        },
        "id": "d0042f21",
        "outputId": "f687735d-5e1c-4bf6-b417-408280f68775",
        "colab": {
          "base_uri": "https://localhost:8080/"
        }
      },
      "outputs": [
        {
          "output_type": "execute_result",
          "data": {
            "text/plain": [
              "['Bolo de Chocolate', 'Pizza']"
            ]
          },
          "metadata": {},
          "execution_count": 25
        }
      ],
      "source": [
        "# podemos quebrar a lista\n",
        "\n",
        "lista[:2]"
      ]
    },
    {
      "cell_type": "code",
      "source": [
        "lista[len(lista) -1]"
      ],
      "metadata": {
        "id": "VMR_TsZhhbCy",
        "outputId": "8ad68d93-71ae-4b1a-dfe7-275d6f0f8e2b",
        "colab": {
          "base_uri": "https://localhost:8080/"
        }
      },
      "id": "VMR_TsZhhbCy",
      "execution_count": null,
      "outputs": [
        {
          "output_type": "execute_result",
          "data": {
            "text/plain": [
              "False"
            ]
          },
          "metadata": {},
          "execution_count": 31
        }
      ]
    },
    {
      "cell_type": "code",
      "source": [
        "lista[-1]"
      ],
      "metadata": {
        "id": "aD1G2PIWgxm2",
        "outputId": "2308c34b-6950-4685-8a41-b9daafde9fc6",
        "colab": {
          "base_uri": "https://localhost:8080/"
        }
      },
      "id": "aD1G2PIWgxm2",
      "execution_count": null,
      "outputs": [
        {
          "output_type": "execute_result",
          "data": {
            "text/plain": [
              "False"
            ]
          },
          "metadata": {},
          "execution_count": 27
        }
      ]
    },
    {
      "cell_type": "code",
      "source": [
        "lista[-2]"
      ],
      "metadata": {
        "id": "c7ahI5_ag_yw",
        "outputId": "3c3dd7a6-571b-4303-e532-6297360b52cd",
        "colab": {
          "base_uri": "https://localhost:8080/"
        }
      },
      "id": "c7ahI5_ag_yw",
      "execution_count": null,
      "outputs": [
        {
          "output_type": "execute_result",
          "data": {
            "text/plain": [
              "4.3"
            ]
          },
          "metadata": {},
          "execution_count": 28
        }
      ]
    },
    {
      "cell_type": "code",
      "source": [
        "lista[len(lista) -2]"
      ],
      "metadata": {
        "id": "ZGSfS2Yoho_l",
        "outputId": "579c2acb-5747-475a-9b4d-60381ffbe9fa",
        "colab": {
          "base_uri": "https://localhost:8080/"
        }
      },
      "id": "ZGSfS2Yoho_l",
      "execution_count": null,
      "outputs": [
        {
          "output_type": "execute_result",
          "data": {
            "text/plain": [
              "4.3"
            ]
          },
          "metadata": {},
          "execution_count": 32
        }
      ]
    },
    {
      "cell_type": "code",
      "source": [
        "lista[-3]"
      ],
      "metadata": {
        "id": "GoU9cQrzhDtp",
        "outputId": "e3454b79-37e7-4828-ffe2-5faee3cab86a",
        "colab": {
          "base_uri": "https://localhost:8080/"
        }
      },
      "id": "GoU9cQrzhDtp",
      "execution_count": null,
      "outputs": [
        {
          "output_type": "execute_result",
          "data": {
            "text/plain": [
              "180"
            ]
          },
          "metadata": {},
          "execution_count": 29
        }
      ]
    },
    {
      "cell_type": "code",
      "source": [
        "lista[1:3]"
      ],
      "metadata": {
        "id": "x-owkuK0iDaT",
        "outputId": "ceb7754f-aae7-466b-ac02-154f55435299",
        "colab": {
          "base_uri": "https://localhost:8080/"
        }
      },
      "id": "x-owkuK0iDaT",
      "execution_count": null,
      "outputs": [
        {
          "output_type": "execute_result",
          "data": {
            "text/plain": [
              "['Pizza', 'Iogurte']"
            ]
          },
          "metadata": {},
          "execution_count": 33
        }
      ]
    },
    {
      "cell_type": "code",
      "execution_count": null,
      "id": "23f8ead4",
      "metadata": {
        "ExecuteTime": {
          "end_time": "2022-10-16T23:34:03.659012Z",
          "start_time": "2022-10-16T23:34:03.644575Z"
        },
        "id": "23f8ead4",
        "outputId": "7288ef13-b7af-4fb1-b949-85c4096a1928",
        "colab": {
          "base_uri": "https://localhost:8080/"
        }
      },
      "outputs": [
        {
          "output_type": "stream",
          "name": "stdout",
          "text": [
            "['Bolo de Chocolate', 'Pizza', 'Iogurte', 180, 4.3, False]\n"
          ]
        }
      ],
      "source": [
        "# podemos substituir um valor da lista\n",
        "print(lista)\n",
        "lista[0] = 'Castanhas com chocolate 75%'"
      ]
    },
    {
      "cell_type": "code",
      "source": [
        "print(lista)"
      ],
      "metadata": {
        "id": "Oj-AYV8CjDvw",
        "outputId": "3a4a477b-4d34-454e-9f4f-079bcdac94e4",
        "colab": {
          "base_uri": "https://localhost:8080/"
        }
      },
      "id": "Oj-AYV8CjDvw",
      "execution_count": null,
      "outputs": [
        {
          "output_type": "stream",
          "name": "stdout",
          "text": [
            "['Castanhas com chocolate 75%', 'Pizza', 'Iogurte', 180, 4.3, False]\n"
          ]
        }
      ]
    },
    {
      "cell_type": "code",
      "execution_count": null,
      "id": "dc881dd8",
      "metadata": {
        "ExecuteTime": {
          "end_time": "2022-10-16T23:34:10.574595Z",
          "start_time": "2022-10-16T23:34:10.568581Z"
        },
        "id": "dc881dd8"
      },
      "outputs": [],
      "source": [
        "# podemos acrescentar valores na lista -> usando a função append\n",
        "\n",
        "lista.append('Rapid 10 com queijo Minas')"
      ]
    },
    {
      "cell_type": "code",
      "execution_count": null,
      "id": "9459920a",
      "metadata": {
        "ExecuteTime": {
          "end_time": "2022-10-16T23:34:16.712032Z",
          "start_time": "2022-10-16T23:34:16.693072Z"
        },
        "id": "9459920a",
        "outputId": "8d4d2865-5411-4921-e805-184fabe5ad2a",
        "colab": {
          "base_uri": "https://localhost:8080/"
        }
      },
      "outputs": [
        {
          "output_type": "stream",
          "name": "stdout",
          "text": [
            "['Castanhas com chocolate 75%', 'Pizza', 'Iogurte', 180, 4.3, False, 'Rapid 10 com queijo Minas']\n"
          ]
        }
      ],
      "source": [
        "print(lista)"
      ]
    },
    {
      "cell_type": "code",
      "source": [
        "lista.insert(1, 'Crepioca com Frango e requeijão light')"
      ],
      "metadata": {
        "id": "kd0lksiLjnxZ"
      },
      "id": "kd0lksiLjnxZ",
      "execution_count": null,
      "outputs": []
    },
    {
      "cell_type": "code",
      "source": [
        "print(lista)"
      ],
      "metadata": {
        "id": "r46Egv0Xj2un",
        "outputId": "aa705091-3a8f-4039-b87a-8134d0cd6147",
        "colab": {
          "base_uri": "https://localhost:8080/"
        }
      },
      "id": "r46Egv0Xj2un",
      "execution_count": null,
      "outputs": [
        {
          "output_type": "stream",
          "name": "stdout",
          "text": [
            "['Castanhas com chocolate 75%', 'Crepioca com Frango e requeijão light', 'Pizza', 'Iogurte', 180, 4.3, False, 'Rapid 10 com queijo Minas']\n"
          ]
        }
      ]
    },
    {
      "cell_type": "code",
      "source": [
        "lista.remove('Pizza')"
      ],
      "metadata": {
        "id": "-QPomtPRkEFq"
      },
      "id": "-QPomtPRkEFq",
      "execution_count": null,
      "outputs": []
    },
    {
      "cell_type": "code",
      "source": [
        "print(lista)\n"
      ],
      "metadata": {
        "id": "X0KoJd5Tj-yi",
        "outputId": "a63ef6fd-3b3c-43f5-c596-e34277b3b538",
        "colab": {
          "base_uri": "https://localhost:8080/"
        }
      },
      "id": "X0KoJd5Tj-yi",
      "execution_count": null,
      "outputs": [
        {
          "output_type": "stream",
          "name": "stdout",
          "text": [
            "['Castanhas com chocolate 75%', 'Crepioca com Frango e requeijão light', 'Iogurte', 180, 4.3, False, 'Rapid 10 com queijo Minas']\n"
          ]
        }
      ]
    },
    {
      "cell_type": "code",
      "source": [
        "lista.index('Iogurte')"
      ],
      "metadata": {
        "id": "cRM-qC9XkS02",
        "outputId": "15528fc4-a95b-4ad9-cb85-ceeca93311f1",
        "colab": {
          "base_uri": "https://localhost:8080/"
        }
      },
      "id": "cRM-qC9XkS02",
      "execution_count": null,
      "outputs": [
        {
          "output_type": "execute_result",
          "data": {
            "text/plain": [
              "2"
            ]
          },
          "metadata": {},
          "execution_count": 42
        }
      ]
    },
    {
      "cell_type": "code",
      "source": [
        "lista.append('Iogurte')"
      ],
      "metadata": {
        "id": "tIVFdWFRkjYP"
      },
      "id": "tIVFdWFRkjYP",
      "execution_count": null,
      "outputs": []
    },
    {
      "cell_type": "code",
      "source": [
        "print(lista)\n"
      ],
      "metadata": {
        "id": "lqpSMZagkrUS",
        "outputId": "531f1bf1-312b-4406-92ea-d7c2d7aa71b8",
        "colab": {
          "base_uri": "https://localhost:8080/"
        }
      },
      "id": "lqpSMZagkrUS",
      "execution_count": null,
      "outputs": [
        {
          "output_type": "stream",
          "name": "stdout",
          "text": [
            "['Castanhas com chocolate 75%', 'Crepioca com Frango e requeijão light', 'Iogurte', 180, 4.3, False, 'Rapid 10 com queijo Minas', 'Iogurte']\n"
          ]
        }
      ]
    },
    {
      "cell_type": "code",
      "source": [
        "lista.index('Iogurte')"
      ],
      "metadata": {
        "id": "h-awX5OXktZ4",
        "outputId": "5969d92c-6879-4ffa-ce87-4af6d9f14120",
        "colab": {
          "base_uri": "https://localhost:8080/"
        }
      },
      "id": "h-awX5OXktZ4",
      "execution_count": null,
      "outputs": [
        {
          "output_type": "execute_result",
          "data": {
            "text/plain": [
              "2"
            ]
          },
          "metadata": {},
          "execution_count": 45
        }
      ]
    },
    {
      "cell_type": "code",
      "source": [
        "lista.index"
      ],
      "metadata": {
        "id": "6boT6ebvkvPe"
      },
      "id": "6boT6ebvkvPe",
      "execution_count": null,
      "outputs": []
    },
    {
      "cell_type": "markdown",
      "id": "480bb39f",
      "metadata": {
        "id": "480bb39f"
      },
      "source": [
        "Existem várias outras funções de lista que vocês irão ver no módulo, como:\n",
        "- insert\n",
        "- remove\n",
        "- pop\n",
        "- sort\n",
        "- reverse\n",
        "- index\n",
        "- max, min, len\n",
        "\n",
        "- list comprehension"
      ]
    },
    {
      "cell_type": "markdown",
      "id": "55cf4043",
      "metadata": {
        "id": "55cf4043"
      },
      "source": [
        "**Bora praticar!**\n",
        "\n",
        "1. Será que agora conseguimos fazer o exercício de identificação do maior número, mas agora utilizando listas?"
      ]
    },
    {
      "cell_type": "code",
      "execution_count": null,
      "id": "62a47238",
      "metadata": {
        "ExecuteTime": {
          "end_time": "2022-10-16T23:42:43.127808Z",
          "start_time": "2022-10-16T23:42:32.585787Z"
        },
        "id": "62a47238"
      },
      "outputs": [],
      "source": []
    },
    {
      "cell_type": "markdown",
      "id": "426282b4",
      "metadata": {
        "id": "426282b4"
      },
      "source": [
        "2. E se quisermos mostrar o terceiro maior número ao usuário."
      ]
    },
    {
      "cell_type": "code",
      "execution_count": null,
      "id": "0ad98da4",
      "metadata": {
        "id": "0ad98da4"
      },
      "outputs": [],
      "source": []
    },
    {
      "cell_type": "markdown",
      "id": "21b64d18",
      "metadata": {
        "id": "21b64d18"
      },
      "source": [
        "3. Dada a seguinte lista de números\n",
        "\n",
        "```python\n",
        "\n",
        "numeros = [5, 13, 8, 44, 9]\n",
        "\n",
        "```\n",
        "\n",
        "Emita a mensagem a seguir a para todos os valores da lista\n",
        "\n",
        "```python\n",
        "\n",
        "indice 0: 5\n",
        "\n",
        "indice 1: 13\n",
        "...\n",
        "\n",
        "```\n",
        "por fim some todos os valores dessa lista."
      ]
    },
    {
      "cell_type": "code",
      "execution_count": null,
      "id": "9b938132",
      "metadata": {
        "ExecuteTime": {
          "end_time": "2022-10-16T23:44:22.827213Z",
          "start_time": "2022-10-16T23:44:22.788322Z"
        },
        "id": "9b938132"
      },
      "outputs": [],
      "source": []
    },
    {
      "cell_type": "markdown",
      "id": "7c0cb36f",
      "metadata": {
        "id": "7c0cb36f"
      },
      "source": [
        "4.  Crie uma lista crescente (começando do 0) com a quantidade de elementos dada pelo usuário"
      ]
    },
    {
      "cell_type": "code",
      "execution_count": null,
      "id": "6dd0bac5",
      "metadata": {
        "ExecuteTime": {
          "end_time": "2022-10-16T23:46:33.045484Z",
          "start_time": "2022-10-16T23:46:31.102366Z"
        },
        "id": "6dd0bac5"
      },
      "outputs": [],
      "source": []
    },
    {
      "cell_type": "markdown",
      "id": "e430d887",
      "metadata": {
        "id": "e430d887"
      },
      "source": [
        "Maneiras de percorrer uma lista\n",
        "\n",
        "numeros = [1, 3, 5, 7, 9]\n",
        "\n",
        "- Usando while\n",
        "\n",
        "Pros: Eu sei não só o elemento mas sei o indice também   \n",
        "Contra: Eu preciso controlar o indice\n",
        "\n",
        "```python\n",
        "contador = 0\n",
        "while (contador < len(numeros)):\n",
        "    print(numeros[contador])\n",
        "    contador = contador + 1  Se eu esquecer essa linha\n",
        "```\n",
        "\n",
        "\n",
        "- Jeito intermediario: for in range\n",
        "\n",
        "Pros: Sei o indice, não preciso controlar o loop  \n",
        "Contra: Precisa saber usar a função range  \n",
        "range(5) ->  [0, 1, 2, 3, 4]\n",
        "\n",
        "```python\n",
        "numeros = [1, 3, 5, 7, 9]\n",
        "for indice in range(len(numeros)):\n",
        "    print(numeros[indice])\n",
        "```\n",
        "\n",
        "\n",
        "- Usando só for\n",
        "\n",
        "Pros: não preciso me preocupar com o indice  \n",
        "Contra: não sei indice"
      ]
    },
    {
      "cell_type": "code",
      "source": [
        "numeros = [1, 3, 5, 7, 9]"
      ],
      "metadata": {
        "id": "9CivPWacOvxY"
      },
      "id": "9CivPWacOvxY",
      "execution_count": 1,
      "outputs": []
    },
    {
      "cell_type": "code",
      "source": [
        "contador = 0\n",
        "while (contador < len(numeros)):\n",
        "    print(f\"{contador} \\t {numeros[contador]}\")\n",
        "    #print(contador)\n",
        "    #print(numeros[contador])\n",
        "    contador = contador + 1"
      ],
      "metadata": {
        "id": "ImdEgWxZO20w",
        "outputId": "61196745-1bbc-49d2-fcee-b141fbb719d7",
        "colab": {
          "base_uri": "https://localhost:8080/"
        }
      },
      "id": "ImdEgWxZO20w",
      "execution_count": 4,
      "outputs": [
        {
          "output_type": "stream",
          "name": "stdout",
          "text": [
            "0 \t 1\n",
            "1 \t 3\n",
            "2 \t 5\n",
            "3 \t 7\n",
            "4 \t 9\n"
          ]
        }
      ]
    },
    {
      "cell_type": "code",
      "source": [
        "for indice in range(len(numeros)):\n",
        "  print(f\"{indice} \\t {numeros[indice]}\")\n",
        "  #print(numeros[indice])"
      ],
      "metadata": {
        "id": "ZrBo1TCmP1tA",
        "outputId": "9959a79f-0a6b-4615-e210-7f3f5d7b9b6b",
        "colab": {
          "base_uri": "https://localhost:8080/"
        }
      },
      "id": "ZrBo1TCmP1tA",
      "execution_count": 5,
      "outputs": [
        {
          "output_type": "stream",
          "name": "stdout",
          "text": [
            "0 \t 1\n",
            "1 \t 3\n",
            "2 \t 5\n",
            "3 \t 7\n",
            "4 \t 9\n"
          ]
        }
      ]
    },
    {
      "cell_type": "code",
      "source": [
        "numeros = [5, 13, 8, 44, 9]"
      ],
      "metadata": {
        "id": "LWFJ1LxGQnbI"
      },
      "id": "LWFJ1LxGQnbI",
      "execution_count": 7,
      "outputs": []
    },
    {
      "cell_type": "code",
      "source": [
        "numeros = range(100000)"
      ],
      "metadata": {
        "id": "AxaRbO8ZRDmR"
      },
      "id": "AxaRbO8ZRDmR",
      "execution_count": 29,
      "outputs": []
    },
    {
      "cell_type": "code",
      "source": [
        "count = 0"
      ],
      "metadata": {
        "id": "AKI4e7EQRRNe"
      },
      "id": "AKI4e7EQRRNe",
      "execution_count": 30,
      "outputs": []
    },
    {
      "cell_type": "code",
      "execution_count": 31,
      "id": "c4f2dda2",
      "metadata": {
        "id": "c4f2dda2",
        "outputId": "79dd7502-d556-43ff-e075-53f220d17596",
        "colab": {
          "base_uri": "https://localhost:8080/"
        }
      },
      "outputs": [
        {
          "output_type": "stream",
          "name": "stdout",
          "text": [
            "CPU times: user 3 µs, sys: 0 ns, total: 3 µs\n",
            "Wall time: 6.44 µs\n"
          ]
        }
      ],
      "source": [
        "%time\n",
        "\n",
        "for numero in numeros:  # numero é uma especie de variavel temporaria\n",
        "    count += numero"
      ]
    },
    {
      "cell_type": "code",
      "source": [
        "%time\n",
        "\n",
        "for i, item in enumerate(numeros):\n",
        "  count += item"
      ],
      "metadata": {
        "id": "AMOUL4BrQsI0"
      },
      "id": "AMOUL4BrQsI0",
      "execution_count": null,
      "outputs": []
    },
    {
      "cell_type": "markdown",
      "id": "71024b38",
      "metadata": {
        "id": "71024b38"
      },
      "source": [
        "A função range"
      ]
    },
    {
      "cell_type": "code",
      "execution_count": 34,
      "id": "f0b59c67",
      "metadata": {
        "id": "f0b59c67",
        "outputId": "a0f6196a-3e58-4954-9a5b-061cb455414f",
        "colab": {
          "base_uri": "https://localhost:8080/"
        }
      },
      "outputs": [
        {
          "output_type": "stream",
          "name": "stdout",
          "text": [
            "2\n",
            "3\n",
            "4\n",
            "5\n",
            "6\n",
            "7\n"
          ]
        }
      ],
      "source": [
        "for i in range(2, 8):\n",
        "  print(i)"
      ]
    },
    {
      "cell_type": "code",
      "source": [
        "for i in range(2, 11, 2):\n",
        "  print(i)"
      ],
      "metadata": {
        "id": "PfRKMkyxUBi4",
        "outputId": "03570d96-d749-46eb-81a0-ab79b53adf8a",
        "colab": {
          "base_uri": "https://localhost:8080/"
        }
      },
      "id": "PfRKMkyxUBi4",
      "execution_count": 36,
      "outputs": [
        {
          "output_type": "stream",
          "name": "stdout",
          "text": [
            "2\n",
            "4\n",
            "6\n",
            "8\n",
            "10\n"
          ]
        }
      ]
    },
    {
      "cell_type": "markdown",
      "id": "f41aa6a1",
      "metadata": {
        "id": "f41aa6a1"
      },
      "source": [
        "Podemos fazer o exercício 3 utilizando o for."
      ]
    },
    {
      "cell_type": "code",
      "execution_count": null,
      "id": "99c5a042",
      "metadata": {
        "id": "99c5a042"
      },
      "outputs": [],
      "source": []
    },
    {
      "cell_type": "markdown",
      "id": "85a4ae40",
      "metadata": {
        "id": "85a4ae40"
      },
      "source": [
        "**list comprehension**  \n",
        "Podemos criar listas utilizando o **for** loop de forma prática"
      ]
    },
    {
      "cell_type": "code",
      "execution_count": null,
      "id": "364ba505",
      "metadata": {
        "id": "364ba505"
      },
      "outputs": [],
      "source": []
    },
    {
      "cell_type": "markdown",
      "id": "18c36530",
      "metadata": {
        "id": "18c36530"
      },
      "source": [
        "**Bora praticar!**\n",
        "1. Crie uma lista qualquer e faça um programa que imprima cada elemento da lista usando o for."
      ]
    },
    {
      "cell_type": "code",
      "execution_count": null,
      "id": "c4b3e96d",
      "metadata": {
        "id": "c4b3e96d"
      },
      "outputs": [],
      "source": []
    },
    {
      "cell_type": "markdown",
      "id": "529d3c39",
      "metadata": {
        "id": "529d3c39"
      },
      "source": [
        "2. Faça um programa que imprima todos os itens de uma lista usando while e compare com o exercício 1."
      ]
    },
    {
      "cell_type": "code",
      "execution_count": null,
      "id": "428df806",
      "metadata": {
        "id": "428df806"
      },
      "outputs": [],
      "source": []
    },
    {
      "cell_type": "markdown",
      "id": "baa756e6",
      "metadata": {
        "id": "baa756e6"
      },
      "source": [
        "3. Faça um programa que peça para o usuário digitar um número n e imprima uma lista com todos os números de 0 a n-1."
      ]
    },
    {
      "cell_type": "code",
      "execution_count": null,
      "id": "79274921",
      "metadata": {
        "id": "79274921"
      },
      "outputs": [],
      "source": []
    },
    {
      "cell_type": "markdown",
      "id": "ae729dd1",
      "metadata": {
        "id": "ae729dd1"
      },
      "source": [
        "4. Faça um programa que olhe todos os itens de uma lista e diga quantos deles são pares."
      ]
    },
    {
      "cell_type": "code",
      "execution_count": null,
      "id": "da5d8a74",
      "metadata": {
        "id": "da5d8a74"
      },
      "outputs": [],
      "source": []
    },
    {
      "cell_type": "markdown",
      "id": "523d195f",
      "metadata": {
        "id": "523d195f"
      },
      "source": [
        "5. Faça um programa que imprima o maior número de uma lista, sem usar o método max()."
      ]
    },
    {
      "cell_type": "code",
      "execution_count": null,
      "id": "6b568b54",
      "metadata": {
        "id": "6b568b54"
      },
      "outputs": [],
      "source": []
    },
    {
      "cell_type": "markdown",
      "id": "0faa9fcd",
      "metadata": {
        "id": "0faa9fcd"
      },
      "source": [
        "6. Agora usando o método max() faça um programa que imprima os três maiores números de uma lista."
      ]
    },
    {
      "cell_type": "code",
      "execution_count": null,
      "id": "0d539d40",
      "metadata": {
        "id": "0d539d40"
      },
      "outputs": [],
      "source": []
    },
    {
      "cell_type": "markdown",
      "id": "9cef68f1",
      "metadata": {
        "id": "9cef68f1"
      },
      "source": [
        "7. Faça um programa que, dadas duas listas de mesmo tamanho, crie uma nova lista com cada elemento igual a soma dos elementos da lista 1 com os da lista 2, na mesma posição."
      ]
    },
    {
      "cell_type": "code",
      "execution_count": null,
      "id": "b1244d4d",
      "metadata": {
        "id": "b1244d4d"
      },
      "outputs": [],
      "source": []
    },
    {
      "cell_type": "markdown",
      "id": "aca3d93e",
      "metadata": {
        "id": "aca3d93e"
      },
      "source": [
        "8. Faça um programa que dadas duas listas de mesmo tamanho, imprima o produto escalar entre elas."
      ]
    },
    {
      "cell_type": "code",
      "execution_count": null,
      "id": "4e0d1ba5",
      "metadata": {
        "id": "4e0d1ba5"
      },
      "outputs": [],
      "source": []
    },
    {
      "cell_type": "markdown",
      "id": "2fd28092",
      "metadata": {
        "id": "2fd28092"
      },
      "source": [
        "9. Faça um programa que pede para o usuário digitar 5 números e, ao final, imprime uma lista com os 5 números digitados pelo usuário (sem converter os números para int ou float).\n"
      ]
    },
    {
      "cell_type": "code",
      "execution_count": null,
      "id": "9725cae9",
      "metadata": {
        "id": "9725cae9"
      },
      "outputs": [],
      "source": []
    },
    {
      "cell_type": "markdown",
      "id": "7b920536",
      "metadata": {
        "id": "7b920536"
      },
      "source": [
        "10. Pegue a lista gerada no exercício anterior e transforme cada um dos itens dessa lista em um float."
      ]
    },
    {
      "cell_type": "code",
      "execution_count": null,
      "id": "66b8d853",
      "metadata": {
        "id": "66b8d853"
      },
      "outputs": [],
      "source": []
    },
    {
      "cell_type": "markdown",
      "id": "cf44aee1",
      "metadata": {
        "id": "cf44aee1"
      },
      "source": [
        "11. Faça um Programa que peça as 4 notas bimestrais e mostre a média, usando listas."
      ]
    },
    {
      "cell_type": "code",
      "execution_count": null,
      "id": "ebd38c42",
      "metadata": {
        "id": "ebd38c42"
      },
      "outputs": [],
      "source": []
    },
    {
      "cell_type": "markdown",
      "id": "bf87d55d",
      "metadata": {
        "id": "bf87d55d"
      },
      "source": [
        "12. Crie uma lista com 10 números quaisquer:  \n",
        " a.  uma lista com os 4 primeiros números  \n",
        " b.  uma lista com os 5 últimos números  \n",
        " c.  uma lista contendo apenas os elementos das posições pares  \n",
        " d.  uma lista contendo apenas os elementos das posições ímpares  \n",
        " e.  a lista inversa da lista sorteada (isto é, uma lista que começa com o último elemento da lista sorteada e termina com o primeiro)  \n",
        " f.  uma lista inversa dos 5 primeiros números  \n",
        " g.  uma lista inversa dos 5 últimos números.\n"
      ]
    },
    {
      "cell_type": "code",
      "execution_count": null,
      "id": "0842c0d2",
      "metadata": {
        "id": "0842c0d2"
      },
      "outputs": [],
      "source": []
    },
    {
      "cell_type": "markdown",
      "id": "324bf6d4",
      "metadata": {
        "id": "324bf6d4"
      },
      "source": [
        "13. Faça um programa que sorteia 10 números entre 0 e 100 e conte quantos números sorteados são maiores que 50."
      ]
    },
    {
      "cell_type": "code",
      "execution_count": null,
      "id": "98a760e4",
      "metadata": {
        "id": "98a760e4"
      },
      "outputs": [],
      "source": []
    },
    {
      "cell_type": "markdown",
      "id": "b674329c",
      "metadata": {
        "id": "b674329c"
      },
      "source": [
        "14. Faça um programa que sorteie 10 números entre 0 e 100 e imprima:  \n",
        "a.  o maior número sorteado  \n",
        "b.  o menor número sorteado  \n",
        "c.  a média dos números sorteados  \n",
        "d.  a soma dos números sorteados"
      ]
    },
    {
      "cell_type": "code",
      "execution_count": null,
      "id": "918d75fb",
      "metadata": {
        "id": "918d75fb"
      },
      "outputs": [],
      "source": []
    }
  ],
  "metadata": {
    "colab": {
      "provenance": [],
      "include_colab_link": true
    },
    "kernelspec": {
      "display_name": "Python 3.9.12 ('base')",
      "language": "python",
      "name": "python3"
    },
    "language_info": {
      "codemirror_mode": {
        "name": "ipython",
        "version": 3
      },
      "file_extension": ".py",
      "mimetype": "text/x-python",
      "name": "python",
      "nbconvert_exporter": "python",
      "pygments_lexer": "ipython3",
      "version": "3.9.12"
    },
    "varInspector": {
      "cols": {
        "lenName": 16,
        "lenType": 16,
        "lenVar": 40
      },
      "kernels_config": {
        "python": {
          "delete_cmd_postfix": "",
          "delete_cmd_prefix": "del ",
          "library": "var_list.py",
          "varRefreshCmd": "print(var_dic_list())"
        },
        "r": {
          "delete_cmd_postfix": ") ",
          "delete_cmd_prefix": "rm(",
          "library": "var_list.r",
          "varRefreshCmd": "cat(var_dic_list()) "
        }
      },
      "types_to_exclude": [
        "module",
        "function",
        "builtin_function_or_method",
        "instance",
        "_Feature"
      ],
      "window_display": false
    },
    "vscode": {
      "interpreter": {
        "hash": "7f52069df51f55474cef70a04f6de2c8e83f851022777c4983d9d0bb63ea6184"
      }
    }
  },
  "nbformat": 4,
  "nbformat_minor": 5
}