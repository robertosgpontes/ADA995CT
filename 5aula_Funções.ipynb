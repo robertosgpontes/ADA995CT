{
  "cells": [
    {
      "cell_type": "markdown",
      "metadata": {
        "id": "view-in-github",
        "colab_type": "text"
      },
      "source": [
        "<a href=\"https://colab.research.google.com/github/robertosgpontes/ADA995CT/blob/main/5aula_Fun%C3%A7%C3%B5es.ipynb\" target=\"_parent\"><img src=\"https://colab.research.google.com/assets/colab-badge.svg\" alt=\"Open In Colab\"/></a>"
      ]
    },
    {
      "cell_type": "markdown",
      "metadata": {
        "id": "t7fYH-hkj6bJ"
      },
      "source": [
        "# Funções\n",
        "## Tópicos da aula\n",
        "- Intuição de funções\n",
        "- Parâmetros\n",
        "- Retorno"
      ]
    },
    {
      "cell_type": "markdown",
      "metadata": {
        "id": "vHCXBQzKVDxA"
      },
      "source": [
        "https://docs.python.org/3/reference/compound_stmts.html#function-definitions,"
      ]
    },
    {
      "cell_type": "markdown",
      "metadata": {
        "id": "MJ4dxQuHj6bO"
      },
      "source": [
        "E se quisermos utilizar diversas vezes o mesmo programa?"
      ]
    },
    {
      "cell_type": "markdown",
      "metadata": {
        "id": "9H7_2VABj6bO"
      },
      "source": [
        "Para isso podemos utilizar as funções. Para definir uma função utilizamos a palavra **def**"
      ]
    },
    {
      "cell_type": "code",
      "execution_count": 4,
      "metadata": {
        "id": "Q6vqqJRbj6bP"
      },
      "outputs": [],
      "source": [
        "def exibe():\n",
        "  print('Olá Mundo!')\n",
        "  a = 10"
      ]
    },
    {
      "cell_type": "markdown",
      "metadata": {
        "id": "835g-sbMj6bQ"
      },
      "source": [
        "E como eu faço para chamar a função criada?"
      ]
    },
    {
      "cell_type": "code",
      "execution_count": 5,
      "metadata": {
        "id": "ep199RoCj6bR",
        "outputId": "4d7300f2-542a-4e32-a491-620d020474dd",
        "colab": {
          "base_uri": "https://localhost:8080/"
        }
      },
      "outputs": [
        {
          "output_type": "stream",
          "name": "stdout",
          "text": [
            "Olá Mundo!\n"
          ]
        }
      ],
      "source": [
        "exibe()"
      ]
    },
    {
      "cell_type": "code",
      "source": [
        "a"
      ],
      "metadata": {
        "id": "F563lGJrV0vp",
        "outputId": "0df04fc6-02d2-40f1-aca1-23e88f955e3e",
        "colab": {
          "base_uri": "https://localhost:8080/",
          "height": 169
        }
      },
      "execution_count": 6,
      "outputs": [
        {
          "output_type": "error",
          "ename": "NameError",
          "evalue": "ignored",
          "traceback": [
            "\u001b[0;31m---------------------------------------------------------------------------\u001b[0m",
            "\u001b[0;31mNameError\u001b[0m                                 Traceback (most recent call last)",
            "\u001b[0;32m<ipython-input-6-3f786850e387>\u001b[0m in \u001b[0;36m<cell line: 1>\u001b[0;34m()\u001b[0m\n\u001b[0;32m----> 1\u001b[0;31m \u001b[0ma\u001b[0m\u001b[0;34m\u001b[0m\u001b[0;34m\u001b[0m\u001b[0m\n\u001b[0m",
            "\u001b[0;31mNameError\u001b[0m: name 'a' is not defined"
          ]
        }
      ]
    },
    {
      "cell_type": "code",
      "source": [
        "exibe()"
      ],
      "metadata": {
        "id": "0kwKk7qDVsp-",
        "outputId": "657170bd-076d-44bc-96b5-6513a18dab36",
        "colab": {
          "base_uri": "https://localhost:8080/"
        }
      },
      "execution_count": 3,
      "outputs": [
        {
          "output_type": "stream",
          "name": "stdout",
          "text": [
            "Olá Mundo!\n"
          ]
        }
      ]
    },
    {
      "cell_type": "markdown",
      "metadata": {
        "id": "wSobCjwpj6bR"
      },
      "source": [
        "### Parâmetros da função"
      ]
    },
    {
      "cell_type": "code",
      "execution_count": 7,
      "metadata": {
        "id": "oSPVW4fEj6bS"
      },
      "outputs": [],
      "source": [
        "## Os parênteses servem para definirmos parametros da função\n",
        "## Parametros são valores que a função pode querer utilizar\n",
        "## Diz-se que o parametro é recebido pela funcao\n",
        "\n",
        "def bom_dia(nome):\n",
        "    print(f'Bom dia {nome}!')"
      ]
    },
    {
      "cell_type": "code",
      "execution_count": 8,
      "metadata": {
        "id": "Dwlx5YxWj6bT",
        "outputId": "a7a1c21f-349e-4f6c-ab7d-d479b460546a",
        "colab": {
          "base_uri": "https://localhost:8080/"
        }
      },
      "outputs": [
        {
          "output_type": "stream",
          "name": "stdout",
          "text": [
            "Digite seu nome: Roberto\n",
            "Bom dia Roberto!\n"
          ]
        }
      ],
      "source": [
        "nome_usuario = input('Digite seu nome: ')\n",
        "bom_dia(nome_usuario)"
      ]
    },
    {
      "cell_type": "code",
      "source": [
        "nome_usuario"
      ],
      "metadata": {
        "id": "8lOmSjuLWm1i",
        "outputId": "4a4bab86-5ad7-46c8-fa57-b559aa80e1f9",
        "colab": {
          "base_uri": "https://localhost:8080/",
          "height": 36
        }
      },
      "execution_count": 9,
      "outputs": [
        {
          "output_type": "execute_result",
          "data": {
            "text/plain": [
              "'Roberto'"
            ],
            "application/vnd.google.colaboratory.intrinsic+json": {
              "type": "string"
            }
          },
          "metadata": {},
          "execution_count": 9
        }
      ]
    },
    {
      "cell_type": "code",
      "source": [
        "nome"
      ],
      "metadata": {
        "id": "oZjryybRWVdZ",
        "outputId": "777f4cdb-1d78-4917-81b6-6e386429dcfb",
        "colab": {
          "base_uri": "https://localhost:8080/",
          "height": 169
        }
      },
      "execution_count": 10,
      "outputs": [
        {
          "output_type": "error",
          "ename": "NameError",
          "evalue": "ignored",
          "traceback": [
            "\u001b[0;31m---------------------------------------------------------------------------\u001b[0m",
            "\u001b[0;31mNameError\u001b[0m                                 Traceback (most recent call last)",
            "\u001b[0;32m<ipython-input-10-764e5f3f0ba9>\u001b[0m in \u001b[0;36m<cell line: 1>\u001b[0;34m()\u001b[0m\n\u001b[0;32m----> 1\u001b[0;31m \u001b[0mnome\u001b[0m\u001b[0;34m\u001b[0m\u001b[0;34m\u001b[0m\u001b[0m\n\u001b[0m",
            "\u001b[0;31mNameError\u001b[0m: name 'nome' is not defined"
          ]
        }
      ]
    },
    {
      "cell_type": "code",
      "execution_count": 11,
      "metadata": {
        "id": "BS6bC3Dcj6bT"
      },
      "outputs": [],
      "source": [
        "## Podemos solicitar mais de um parâmetro: NOme, idade, cidade\n",
        "\n",
        "def cadastro(nome, idade, cidade):\n",
        "  print(f\"Bom dia, {nome}! Você mora em {cidade} e tem {idade} anos\")"
      ]
    },
    {
      "cell_type": "code",
      "source": [
        "cadastro('Roberto', 00, 'Nova Iguaçu/RJ')"
      ],
      "metadata": {
        "id": "x4_atRO_XISt",
        "outputId": "03edb279-8f8d-4a7b-edee-dd31f13fa8ae",
        "colab": {
          "base_uri": "https://localhost:8080/"
        }
      },
      "execution_count": 12,
      "outputs": [
        {
          "output_type": "stream",
          "name": "stdout",
          "text": [
            "Bom dia, Roberto! Você mora em Nova Iguaçu/RJ e tem 0 anos\n"
          ]
        }
      ]
    },
    {
      "cell_type": "code",
      "source": [
        "cadastro(cidade='Nova Iguaçu', nome='Roberto', idade=00)"
      ],
      "metadata": {
        "id": "y1PrvcTXXknU",
        "outputId": "d746b316-98e7-4f16-a7c2-7220f33079dd",
        "colab": {
          "base_uri": "https://localhost:8080/"
        }
      },
      "execution_count": 13,
      "outputs": [
        {
          "output_type": "stream",
          "name": "stdout",
          "text": [
            "Bom dia, Roberto! Você mora em Nova Iguaçu e tem 0 anos\n"
          ]
        }
      ]
    },
    {
      "cell_type": "markdown",
      "metadata": {
        "id": "MWBe0MryVDxM"
      },
      "source": [
        "VAmos criar uma função que verifica se é maior de idade e exibe uma mensagem"
      ]
    },
    {
      "cell_type": "code",
      "execution_count": 14,
      "metadata": {
        "id": "zc0XCWKvj6bU"
      },
      "outputs": [],
      "source": [
        "def maior_idade(idade: int):\n",
        "  if idade >= 18:\n",
        "    print(f'Você tem {idade} anos, então é maior de idade!')\n",
        "  else:\n",
        "    print(f'Você tem {idade} anos, então é menor de idade!')"
      ]
    },
    {
      "cell_type": "code",
      "source": [
        "maior_idade(00)"
      ],
      "metadata": {
        "id": "8I1AH4TIX_V_",
        "outputId": "9c17d151-e19e-45f7-b6b3-b934e021e47f",
        "colab": {
          "base_uri": "https://localhost:8080/"
        }
      },
      "execution_count": 15,
      "outputs": [
        {
          "output_type": "stream",
          "name": "stdout",
          "text": [
            "Você tem 0 anos, então é menor de idade!\n"
          ]
        }
      ]
    },
    {
      "cell_type": "code",
      "source": [
        "maior_idade(19)"
      ],
      "metadata": {
        "id": "2tW6HcJUYDTc",
        "outputId": "59b216f8-60ec-4a52-ba66-0a14ceb86994",
        "colab": {
          "base_uri": "https://localhost:8080/"
        }
      },
      "execution_count": 16,
      "outputs": [
        {
          "output_type": "stream",
          "name": "stdout",
          "text": [
            "Você tem 19 anos, então é maior de idade!\n"
          ]
        }
      ]
    },
    {
      "cell_type": "code",
      "execution_count": 17,
      "metadata": {
        "id": "C4KgpQeAj6bV"
      },
      "outputs": [],
      "source": [
        "# Podemos utilizar listas como parâmetros\n",
        "\n",
        "def soma(lista):\n",
        "  s = 0\n",
        "  for i in lista:\n",
        "    s += i\n",
        "\n",
        "  print(f'Soma: {s}')\n"
      ]
    },
    {
      "cell_type": "code",
      "execution_count": 18,
      "metadata": {
        "id": "V0F9koQpj6bV",
        "outputId": "76464a35-7d11-4956-f949-9a5bf4a7e2d4",
        "colab": {
          "base_uri": "https://localhost:8080/"
        }
      },
      "outputs": [
        {
          "output_type": "stream",
          "name": "stdout",
          "text": [
            "Soma: 10\n"
          ]
        }
      ],
      "source": [
        "soma([1, 2, 3, 4])"
      ]
    },
    {
      "cell_type": "markdown",
      "metadata": {
        "id": "u56a7njNj6bW"
      },
      "source": [
        "### Return"
      ]
    },
    {
      "cell_type": "code",
      "execution_count": 19,
      "metadata": {
        "id": "DPVATFrcj6bW"
      },
      "outputs": [],
      "source": [
        "def soma2(lista):\n",
        "  s = 0\n",
        "  for i in lista:\n",
        "    s += i\n",
        "\n",
        "  return s"
      ]
    },
    {
      "cell_type": "code",
      "source": [
        "soma2([1, 2, 3, 4])"
      ],
      "metadata": {
        "id": "Z6-lDsIxZWN-",
        "outputId": "b9b22ae6-3ab1-4f47-d18c-a0c1027809dd",
        "colab": {
          "base_uri": "https://localhost:8080/"
        }
      },
      "execution_count": 20,
      "outputs": [
        {
          "output_type": "execute_result",
          "data": {
            "text/plain": [
              "10"
            ]
          },
          "metadata": {},
          "execution_count": 20
        }
      ]
    },
    {
      "cell_type": "code",
      "source": [
        "s"
      ],
      "metadata": {
        "id": "yh314YisZ9r4",
        "outputId": "1a1bbd07-4e22-4219-8f8a-8a384c62dd9d",
        "colab": {
          "base_uri": "https://localhost:8080/",
          "height": 169
        }
      },
      "execution_count": 21,
      "outputs": [
        {
          "output_type": "error",
          "ename": "NameError",
          "evalue": "ignored",
          "traceback": [
            "\u001b[0;31m---------------------------------------------------------------------------\u001b[0m",
            "\u001b[0;31mNameError\u001b[0m                                 Traceback (most recent call last)",
            "\u001b[0;32m<ipython-input-21-ded5ba42480f>\u001b[0m in \u001b[0;36m<cell line: 1>\u001b[0;34m()\u001b[0m\n\u001b[0;32m----> 1\u001b[0;31m \u001b[0ms\u001b[0m\u001b[0;34m\u001b[0m\u001b[0;34m\u001b[0m\u001b[0m\n\u001b[0m",
            "\u001b[0;31mNameError\u001b[0m: name 's' is not defined"
          ]
        }
      ]
    },
    {
      "cell_type": "code",
      "source": [
        "## O return possibilita armazenar numa variavel\n",
        "\n",
        "s2 = soma2([1, 2, 3, 4])"
      ],
      "metadata": {
        "id": "xkEkUvVcaA8S"
      },
      "execution_count": 22,
      "outputs": []
    },
    {
      "cell_type": "code",
      "source": [
        "s2"
      ],
      "metadata": {
        "id": "7UKj6QswaDaN",
        "outputId": "aa17b13d-d885-4921-f445-237f3191b132",
        "colab": {
          "base_uri": "https://localhost:8080/"
        }
      },
      "execution_count": 23,
      "outputs": [
        {
          "output_type": "execute_result",
          "data": {
            "text/plain": [
              "10"
            ]
          },
          "metadata": {},
          "execution_count": 23
        }
      ]
    },
    {
      "cell_type": "markdown",
      "metadata": {
        "id": "MrYxe5SDVDxR"
      },
      "source": [
        "Vamos refazer a função de maior de idade retornado uma valor boleano"
      ]
    },
    {
      "cell_type": "code",
      "execution_count": null,
      "metadata": {
        "id": "W9u1k7ONj6bX"
      },
      "outputs": [],
      "source": [
        "def verif (idade):\n",
        "  if idade >= 18:\n",
        "    maior_de_idade = True\n",
        "  else:\n",
        "    maior_de_idade = False\n",
        "\n",
        "  return maior_de_idade"
      ]
    },
    {
      "cell_type": "code",
      "source": [
        "def di_maior(idade):\n",
        "  if idade >= 18:\n",
        "    return True\n",
        "  else:\n",
        "    return False"
      ],
      "metadata": {
        "id": "BdOHCAxKbnJZ"
      },
      "execution_count": null,
      "outputs": []
    },
    {
      "cell_type": "code",
      "source": [
        "def verifica_idade(idade):\n",
        "    return True if idade >=18 else False"
      ],
      "metadata": {
        "id": "v6MCyqgyb306"
      },
      "execution_count": null,
      "outputs": []
    },
    {
      "cell_type": "code",
      "source": [
        "def maior_idade(idade):\n",
        "    return idade >= 18"
      ],
      "metadata": {
        "id": "IhFixYkAbzbC"
      },
      "execution_count": null,
      "outputs": []
    },
    {
      "cell_type": "markdown",
      "metadata": {
        "id": "A6BZet9tj6bX"
      },
      "source": [
        "1. Escreva uma função que calcule e retorne o dobro de um número inserido. Teste este caso solicitando ao usuário que insira um número e após isso, retorne a resposta."
      ]
    },
    {
      "cell_type": "code",
      "execution_count": null,
      "metadata": {
        "id": "lg2-S0WCj6bX"
      },
      "outputs": [],
      "source": []
    },
    {
      "cell_type": "markdown",
      "metadata": {
        "id": "jhDWXZ74j6bY"
      },
      "source": [
        "2. Crie uma função para cálculo do comprimento da circunferência (C = 2 * 3.14 * R), sendo C o comprimento e R o raio da circunferência"
      ]
    },
    {
      "cell_type": "code",
      "execution_count": null,
      "metadata": {
        "id": "PiCY7N2kj6bY"
      },
      "outputs": [],
      "source": []
    },
    {
      "cell_type": "markdown",
      "metadata": {
        "id": "3rvm9llnj6bY"
      },
      "source": [
        "3. Faça uma função que emita uma saudação baseada no horário. A função deve receber o nome e o horário (apenas número inteiro) e emita a mensagem com as seguintes condições:\n",
        "- até meio dia (não incluso): \"Bom dia, (VARIAVEL_NOME)\"\n",
        "- entre meio dia (incluso) e 18h (não incluso): \"Boa tarde, (VARIAVEL_NOME)\"\n",
        "- após as 18h (incluso): \"Boa noite, (VARIAVEL_NOME)\""
      ]
    },
    {
      "cell_type": "code",
      "execution_count": null,
      "metadata": {
        "id": "eOisN_Pzj6bY"
      },
      "outputs": [],
      "source": []
    },
    {
      "cell_type": "markdown",
      "metadata": {
        "id": "h4BiKoUIj6bY"
      },
      "source": [
        "4. Faça uma função que verifique se um número é par. Teste esta função solicitando ao usuário que digite um número e emitindo a mensagem adequada caso o número seja par ou não."
      ]
    },
    {
      "cell_type": "code",
      "execution_count": null,
      "metadata": {
        "id": "4EHKXuSQj6bZ"
      },
      "outputs": [],
      "source": []
    },
    {
      "cell_type": "markdown",
      "metadata": {
        "id": "nx32lI6Gj6bZ"
      },
      "source": [
        "5. Crie uma função que recebe duas listas. Caso estas duas listas sejam do mesmo tamanho some os elementos de cada lista com mesmo índica, caso contrário retorne uma lista vazia.\n",
        "Se as duas listas de entrada forem do mesmo tamanho o programa deve se comportar como no exemplo:\n",
        "```python\n",
        "lista_01 = [1, 2, 3, 4, 5]\n",
        "lista_02 = [6, 7, 8, 9, 10]\n",
        "\n",
        "soma_listas(lista_01, lista_02)\n",
        "```\n",
        "saída:\n",
        "\n",
        "```\n",
        "[7, 9, 11, 13, 15]\n",
        "```"
      ]
    },
    {
      "cell_type": "code",
      "execution_count": null,
      "metadata": {
        "id": "R9wnkSZTj6bZ"
      },
      "outputs": [],
      "source": []
    },
    {
      "cell_type": "markdown",
      "metadata": {
        "id": "Q1fol7J3j6bZ"
      },
      "source": [
        "6. Utilize a mesma lógica do exercício anterior, porém agora você deve multiplicar os elementos ao invés de somá-los."
      ]
    },
    {
      "cell_type": "code",
      "execution_count": null,
      "metadata": {
        "id": "RDwjlO_fj6bZ"
      },
      "outputs": [],
      "source": []
    },
    {
      "cell_type": "markdown",
      "metadata": {
        "id": "KHQjx41Uj6ba"
      },
      "source": [
        "7. Faça uma função que recebe uma lista de números e calcula a média destes números."
      ]
    },
    {
      "cell_type": "code",
      "execution_count": null,
      "metadata": {
        "id": "s80sb3yaj6ba"
      },
      "outputs": [],
      "source": []
    },
    {
      "cell_type": "markdown",
      "metadata": {
        "id": "D3L-YNBaj6ba"
      },
      "source": [
        "8. Faça uma função que calcula o fatorial de um número."
      ]
    },
    {
      "cell_type": "code",
      "execution_count": null,
      "metadata": {
        "id": "TwF8ie6Xj6ba"
      },
      "outputs": [],
      "source": []
    },
    {
      "cell_type": "markdown",
      "metadata": {
        "id": "hJerbKd-j6bb"
      },
      "source": [
        "### Desafio: Sequência de Fibonacci  \n",
        "Na matemática, a sequência de Fibonacci, é uma sequência de números inteiros, começando por 1 e 1, na qual cada termo subsequente corresponde à soma dos dois anteriores. Segue o exemplo:  \n",
        "\n",
        "1, 1, 2, 3, 5, 8, 13.."
      ]
    },
    {
      "cell_type": "markdown",
      "metadata": {
        "id": "bVnRmc6sj6bb"
      },
      "source": [
        "Faça um programa (sem utilizar recursão) que dado um número irá imprimir na tela a sequência de Fibonacci até o índice dado, no exemplo acima o valor 13 possui índice 7, portanto ao passarmos 13 para a função ela deverá imprimir 8."
      ]
    },
    {
      "cell_type": "code",
      "execution_count": null,
      "metadata": {
        "id": "5PYdtv-Tj6bb"
      },
      "outputs": [],
      "source": []
    }
  ],
  "metadata": {
    "colab": {
      "provenance": [],
      "include_colab_link": true
    },
    "kernelspec": {
      "display_name": "Python 3.9.12 ('base')",
      "language": "python",
      "name": "python3"
    },
    "language_info": {
      "codemirror_mode": {
        "name": "ipython",
        "version": 3
      },
      "file_extension": ".py",
      "mimetype": "text/x-python",
      "name": "python",
      "nbconvert_exporter": "python",
      "pygments_lexer": "ipython3",
      "version": "3.9.12"
    },
    "orig_nbformat": 4,
    "vscode": {
      "interpreter": {
        "hash": "7f52069df51f55474cef70a04f6de2c8e83f851022777c4983d9d0bb63ea6184"
      }
    }
  },
  "nbformat": 4,
  "nbformat_minor": 0
}