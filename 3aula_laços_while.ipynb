{
  "cells": [
    {
      "cell_type": "markdown",
      "metadata": {
        "id": "j8G4MPzskLIO"
      },
      "source": [
        "# Tópicos da aula\n",
        "\n",
        "- Estruturas de repetição\n",
        "- Looping while"
      ]
    },
    {
      "cell_type": "markdown",
      "metadata": {
        "id": "_1QJ3VoEkLIT"
      },
      "source": [
        "## Estruturas de Repetição\n",
        "\n",
        "Um if não garante que eu consigo validar o valor de um campo, pois se o usuário nao acertar na 2a vez, ele seguirá inválido"
      ]
    },
    {
      "cell_type": "code",
      "execution_count": null,
      "metadata": {
        "id": "pCwqFzAXkLIT"
      },
      "outputs": [],
      "source": []
    },
    {
      "cell_type": "code",
      "execution_count": null,
      "metadata": {
        "id": "dBIAfTirkLIU"
      },
      "outputs": [],
      "source": []
    },
    {
      "cell_type": "code",
      "execution_count": 1,
      "metadata": {
        "id": "F64g4JPPcKaL",
        "outputId": "eee19956-a439-42ba-fe65-7bf631b52c1c",
        "colab": {
          "base_uri": "https://localhost:8080/"
        }
      },
      "outputs": [
        {
          "output_type": "stream",
          "name": "stdout",
          "text": [
            "O número é 0!\n",
            "O número é 1!\n",
            "O número é 2!\n",
            "O número é 3!\n",
            "O número é 4!\n",
            "O número é 5!\n",
            "O número é 6!\n",
            "O número é 7!\n",
            "O número é 8!\n",
            "O número é 9!\n"
          ]
        }
      ],
      "source": [
        "number = 0\n",
        "while number < 10:\n",
        "    print(f\"O número é {number}!\")\n",
        "    number = number + 1 # number += 1"
      ]
    },
    {
      "cell_type": "markdown",
      "metadata": {
        "id": "OCsejeSakLIU"
      },
      "source": [
        "__Obs.__: SEMPRE que eu trabalho com estrutura de repetição (WHILE) é NECESSÁRIO que a condição seja alterada dentro do while, SENAO entro em looping infinito"
      ]
    },
    {
      "cell_type": "code",
      "execution_count": null,
      "metadata": {
        "id": "jifMzOISkLIU"
      },
      "outputs": [],
      "source": [
        "# Exemplo de looping infinito\n",
        "salario = float(input(\"digite seu salario: \"))\n",
        "while(salario < 1100): ## Recebe uma expressão logica\n",
        "    print(salario)"
      ]
    },
    {
      "cell_type": "markdown",
      "metadata": {
        "id": "I1SCKX-OkLIU"
      },
      "source": [
        "Como podemos alterar este código para que não haja o loop infinito"
      ]
    },
    {
      "cell_type": "code",
      "execution_count": null,
      "metadata": {
        "id": "SDkuccjhkLIV"
      },
      "outputs": [],
      "source": []
    },
    {
      "cell_type": "markdown",
      "metadata": {
        "id": "vmFXCqfEkLIV"
      },
      "source": [
        "__Exemplo:__ Some todos os numeros de 0 a um numero digitado pelo usuario"
      ]
    },
    {
      "cell_type": "code",
      "execution_count": null,
      "metadata": {
        "id": "yAuzTvykkLIV"
      },
      "outputs": [],
      "source": []
    },
    {
      "cell_type": "code",
      "execution_count": null,
      "metadata": {
        "id": "qhR6t9NWkLIV"
      },
      "outputs": [],
      "source": []
    },
    {
      "cell_type": "markdown",
      "metadata": {
        "id": "Nc3pRmBgkLIV"
      },
      "source": [
        "**Bora praticar!**\n",
        "\n",
        "1) Escreva um programa que solicite um número inteiro e imprima na tela todos os números de 1 até o número digitado, separado por espaços.  \n",
        "_Exemplo_  \n",
        "número digitado: 5  \n",
        "resultado esperado: 1 2 3 4 5"
      ]
    },
    {
      "cell_type": "code",
      "execution_count": null,
      "metadata": {
        "id": "ex1tp26mkLIW",
        "outputId": "cd12688b-4f18-4f9c-ac4d-549b485e629e"
      },
      "outputs": [
        {
          "name": "stdout",
          "output_type": "stream",
          "text": [
            "1 2 3 4 5 \n"
          ]
        }
      ],
      "source": []
    },
    {
      "cell_type": "code",
      "execution_count": null,
      "metadata": {
        "id": "Qq2CUGPikLIW",
        "outputId": "c9582959-5480-4a84-94d8-501061fc05be"
      },
      "outputs": [
        {
          "name": "stdout",
          "output_type": "stream",
          "text": [
            "1 2 3 4 5 "
          ]
        }
      ],
      "source": []
    },
    {
      "cell_type": "markdown",
      "metadata": {
        "id": "8VhTFpS6kLIX"
      },
      "source": [
        "2) Faça um programa que mostre o fatorial de um número digitado.  \n",
        "_Exemplo_  \n",
        "número digitado: 5  \n",
        "resultado esperado: 120"
      ]
    },
    {
      "cell_type": "code",
      "execution_count": null,
      "metadata": {
        "id": "r-jEMetDkLIX"
      },
      "outputs": [],
      "source": []
    },
    {
      "cell_type": "markdown",
      "metadata": {
        "id": "T7A0MkCvkLIX"
      },
      "source": [
        "3) Faça um programa que imprima a tabuada do 9 na tela (entre 1 e 10). Insira a conta, por exemplo, 9 * 1 = 9, sendo cada um dos valores em uma linha diferente."
      ]
    },
    {
      "cell_type": "code",
      "execution_count": null,
      "metadata": {
        "id": "jAECcyrkkLIX"
      },
      "outputs": [],
      "source": []
    },
    {
      "cell_type": "markdown",
      "metadata": {
        "id": "B380cR_KkLIX"
      },
      "source": [
        "4) Faça um programa em que o usuário digite números quaisquer que encerrará no momento em que o valor 0 seja digitado. Ao final diga qual foi o maior número digitado."
      ]
    },
    {
      "cell_type": "code",
      "execution_count": null,
      "metadata": {
        "id": "N2wWHgWQkLIX"
      },
      "outputs": [],
      "source": []
    },
    {
      "cell_type": "markdown",
      "metadata": {
        "id": "dPlR_e7JkLIX"
      },
      "source": [
        "5. Faça um script que peça para o usuário digitar a idade, o salário e o sexo de uma pessoa até que as entradas digitadas sejam válidas.  \n",
        "  \n",
        "a. Idade: entre 0 e 150  \n",
        "b. Salário: maior que 0  \n",
        "c. Gênero: M, F ou Outro  \n",
        "  \n",
        "Por último imprima os dados recebidos do usuário."
      ]
    },
    {
      "cell_type": "code",
      "execution_count": null,
      "metadata": {
        "id": "TTkdoTnPkLIY"
      },
      "outputs": [],
      "source": []
    },
    {
      "cell_type": "markdown",
      "metadata": {
        "id": "BqcW2tT6kLIY"
      },
      "source": [
        "6) Faça uma calculadora. O usuário deve inserir qual a operação matemática ele deseja realizar e logo em seguida os dois números. O programa deve finalizar apenas quando o usuário digitar a opção \"sair\" no momento de escolha da operação matemática."
      ]
    },
    {
      "cell_type": "code",
      "execution_count": null,
      "metadata": {
        "id": "d6aaolMPkLIY"
      },
      "outputs": [],
      "source": []
    }
  ],
  "metadata": {
    "colab": {
      "provenance": []
    },
    "kernelspec": {
      "display_name": "Python 3.9.13 64-bit (microsoft store)",
      "language": "python",
      "name": "python3"
    },
    "language_info": {
      "codemirror_mode": {
        "name": "ipython",
        "version": 3
      },
      "file_extension": ".py",
      "mimetype": "text/x-python",
      "name": "python",
      "nbconvert_exporter": "python",
      "pygments_lexer": "ipython3",
      "version": "3.9.13"
    },
    "vscode": {
      "interpreter": {
        "hash": "707ec6369cc8364d856afa962bf87673ae9b32683b44e418706a06c970307b3e"
      }
    }
  },
  "nbformat": 4,
  "nbformat_minor": 0
}